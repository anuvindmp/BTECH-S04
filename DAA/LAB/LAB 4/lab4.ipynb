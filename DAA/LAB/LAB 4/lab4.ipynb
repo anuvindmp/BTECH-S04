{
 "cells": [
  {
   "cell_type": "code",
   "execution_count": 1,
   "metadata": {},
   "outputs": [
    {
     "name": "stdout",
     "output_type": "stream",
     "text": [
      "[1, 2, 3, 7, 9, 2, 5, 7]\n"
     ]
    }
   ],
   "source": [
    "#1\n",
    "\n",
    "def ms(arr):\n",
    "    if len(arr) > 1:\n",
    "        left = arr[:len(arr)//2]\n",
    "        right = arr[len(arr)//2:]\n",
    "\n",
    "        ms(left)\n",
    "        ms(right)\n",
    "        merge(arr,left,right)\n",
    "    \n",
    "def merge(arr,left,right):\n",
    "    i = j = k = 0\n",
    "\n",
    "    while i < len(left) and j < len(right):\n",
    "        if left[i] < right[j]:\n",
    "            arr[k] = left[i]\n",
    "            i+=1\n",
    "        else:\n",
    "            arr[k] = right[j]\n",
    "            j+=1\n",
    "        k+=1\n",
    "\n",
    "        while i<len(left):\n",
    "            arr[k] = left[i]\n",
    "            i+=1\n",
    "            k+=1\n",
    "        while j<len(right):\n",
    "            arr[k] = right[j]\n",
    "            j+=1\n",
    "            k+=1\n",
    "            \n",
    "arr = [3,7,2,9,1,2,5,7]\n",
    "ms(arr)\n",
    "print(arr)"
   ]
  },
  {
   "cell_type": "code",
   "execution_count": 2,
   "metadata": {},
   "outputs": [
    {
     "name": "stdout",
     "output_type": "stream",
     "text": [
      "[0, 1, 1, 2, 4, 8]\n"
     ]
    }
   ],
   "source": [
    "#2\n",
    "\n",
    "def partition(l,h,arr):\n",
    "    i,j = l,h\n",
    "    pivot = arr[l]\n",
    "\n",
    "    while True:\n",
    "        while i<=j and arr[i]<=pivot:\n",
    "            i+=1\n",
    "        while i<=j and arr[j]>=pivot:\n",
    "            j -=1\n",
    "        if i<=j:\n",
    "            arr[i],arr[j] = arr[j],arr[i]\n",
    "        else:\n",
    "            break\n",
    "        \n",
    "    arr[l], arr[j] = arr[j],arr[l]\n",
    "    return j\n",
    "\n",
    "def quicksort(l,h,arr):\n",
    "    if l<h:\n",
    "        pivot = partition(l,h,arr)\n",
    "        quicksort(l,pivot-1,arr)\n",
    "        quicksort(pivot+1,h,arr)\n",
    "\n",
    "\n",
    "arr = [4,8,1,1,2,0]\n",
    "quicksort(0,len(arr)-1,arr)\n",
    "print(arr)"
   ]
  },
  {
   "cell_type": "code",
   "execution_count": 6,
   "metadata": {},
   "outputs": [
    {
     "name": "stdout",
     "output_type": "stream",
     "text": [
      "['a', 'e', 'l', 'p', 'p']\n"
     ]
    }
   ],
   "source": [
    "#3\n",
    "def counting_sort(arr):\n",
    "    count = [0] * 256\n",
    "    output = [''] * len(arr)\n",
    "    for char in arr:\n",
    "        count[ord(char)] += 1\n",
    "    for i in range(1, 256):\n",
    "        count[i] += count[i - 1]\n",
    "    for char in reversed(arr):\n",
    "        output[count[ord(char)] - 1] = char\n",
    "        count[ord(char)] -= 1\n",
    "    return output\n",
    "\n",
    "s = [\"a\", \"p\", \"p\", \"l\", \"e\"]\n",
    "s = counting_sort(s)\n",
    "print(s)\n"
   ]
  },
  {
   "cell_type": "code",
   "execution_count": 2,
   "metadata": {},
   "outputs": [
    {
     "name": "stdout",
     "output_type": "stream",
     "text": [
      "sorted array :  [2, 25, 34, 72, 99, 180, 507]\n"
     ]
    }
   ],
   "source": [
    "#4\n",
    "def countingSort(arr, exp1):\n",
    "    n = len(arr)\n",
    "    output = [0] * (n)\n",
    "    count = [0] * (10)\n",
    "\n",
    "    for i in range(0, n):\n",
    "        index = arr[i] // exp1\n",
    "        count[index % 10] += 1\n",
    "    for i in range(1, 10):\n",
    "        count[i] += count[i - 1]\n",
    "\n",
    "    i = n - 1\n",
    "    while i >= 0:\n",
    "        index = arr[i] // exp1\n",
    "        output[count[index % 10] - 1] = arr[i]\n",
    "        count[index % 10] -= 1\n",
    "        i -= 1\n",
    "    for i in range(0, len(arr)):\n",
    "        arr[i] = output[i]\n",
    "\n",
    "\n",
    "def radixSort(arr):\n",
    "    max1 = max(arr)\n",
    "    exp = 1\n",
    "    while max1 / exp >= 1:\n",
    "        countingSort(arr, exp)\n",
    "        exp *= 10\n",
    "\n",
    "\n",
    "arr = [180, 25, 72, 507, 34, 2, 99]\n",
    "radixSort(arr)\n",
    "print(\"sorted array : \",arr)"
   ]
  },
  {
   "cell_type": "code",
   "execution_count": 8,
   "metadata": {},
   "outputs": [
    {
     "name": "stdout",
     "output_type": "stream",
     "text": [
      "sorted :  [2, 25, 34, 72, 99, 180, 507]\n"
     ]
    }
   ],
   "source": [
    "\n",
    "def heapify(arr, n, i):\n",
    "    largest = i  \n",
    "    left = 2 * i + 1  \n",
    "    right = 2 * i + 2  \n",
    "\n",
    "    if left < n and arr[i] < arr[left]:\n",
    "        largest = left    \n",
    "    if right < n and arr[largest] < arr[right]:\n",
    "        largest = right    \n",
    "    if largest != i:\n",
    "        arr[i], arr[largest] = arr[largest], arr[i]     \n",
    "        heapify(arr, n, largest)\n",
    "\n",
    "\n",
    "def heap_sort(arr):\n",
    "    n = len(arr)    \n",
    "    for i in range(n // 2 - 1, -1, -1):\n",
    "        heapify(arr, n, i)    \n",
    "    for i in range(n - 1, 0, -1):\n",
    "        arr[i], arr[0] = arr[0], arr[i]  \n",
    "        heapify(arr, i, 0)\n",
    "\n",
    "\n",
    "arr = [180, 25, 72, 507, 34, 2, 99]\n",
    "heap_sort(arr)\n",
    "print(\"sorted : \",arr)\n"
   ]
  }
 ],
 "metadata": {
  "kernelspec": {
   "display_name": "Python 3",
   "language": "python",
   "name": "python3"
  },
  "language_info": {
   "codemirror_mode": {
    "name": "ipython",
    "version": 3
   },
   "file_extension": ".py",
   "mimetype": "text/x-python",
   "name": "python",
   "nbconvert_exporter": "python",
   "pygments_lexer": "ipython3",
   "version": "3.11.2"
  }
 },
 "nbformat": 4,
 "nbformat_minor": 2
}
