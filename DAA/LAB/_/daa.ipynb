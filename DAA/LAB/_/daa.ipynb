{
 "cells": [
  {
   "cell_type": "markdown",
   "metadata": {},
   "source": [
    "binary search\n"
   ]
  },
  {
   "cell_type": "code",
   "execution_count": 13,
   "metadata": {},
   "outputs": [],
   "source": [
    "def binarySearch(nums, target):\n",
    "    l, u = 0, len(nums)-1\n",
    "    while l<u:\n",
    "        mid = (l+u)//2\n",
    "        if nums[mid] == target:\n",
    "            return f\"{target} found at index {mid}\"\n",
    "        elif nums[mid] > target:\n",
    "            u = mid-1\n",
    "        else :\n",
    "            l = mid+1\n",
    "    return \"target not found\""
   ]
  },
  {
   "cell_type": "code",
   "execution_count": 28,
   "metadata": {},
   "outputs": [
    {
     "name": "stdout",
     "output_type": "stream",
     "text": [
      "5 found at index 4\n"
     ]
    }
   ],
   "source": [
    "\n",
    "array = [1,2,3,4,5,6,7,8,9,10,11,12,13]\n",
    "print(binarySearch(array, 5))"
   ]
  },
  {
   "cell_type": "code",
   "execution_count": 70,
   "metadata": {},
   "outputs": [
    {
     "name": "stdout",
     "output_type": "stream",
     "text": [
      "11\n"
     ]
    }
   ],
   "source": [
    "def rbs(nums, l , h, target):\n",
    "    if l <= h:\n",
    "        mid = (l+h)//2\n",
    "        if nums[mid] == target:\n",
    "            return mid\n",
    "        elif nums[mid] > target:\n",
    "            return rbs(nums, l, mid-1, target)\n",
    "        else:\n",
    "            return rbs(nums, mid+1, h, target)\n",
    "    else:\n",
    "        return None\n",
    "\n",
    "array = [1,2,3,4,5,6,7,8,9,10,11,12,13]\n",
    "print(rbs(array, 0, len(array), 12))\n",
    "\n",
    "    \n",
    "    "
   ]
  },
  {
   "cell_type": "markdown",
   "metadata": {},
   "source": [
    "Quick Sort"
   ]
  },
  {
   "cell_type": "code",
   "execution_count": 40,
   "metadata": {},
   "outputs": [
    {
     "name": "stdout",
     "output_type": "stream",
     "text": [
      "[0, 1, 1, 2, 4, 8]\n"
     ]
    }
   ],
   "source": [
    "def partition(l,h,arr):\n",
    "    i,j = l,h\n",
    "    pivot = arr[l]\n",
    "\n",
    "    while True:\n",
    "        while i<=j and arr[i]<=pivot:\n",
    "            i+=1\n",
    "        while i<=j and arr[j]>=pivot:\n",
    "            j -=1\n",
    "        if i<=j:\n",
    "            arr[i],arr[j] = arr[j],arr[i]\n",
    "        else:\n",
    "            break\n",
    "        \n",
    "    arr[l], arr[j] = arr[j],arr[l]\n",
    "    return j\n",
    "\n",
    "def quicksort(l,h,arr):\n",
    "    if l<h:\n",
    "        pivot = partition(l,h,arr)\n",
    "        quicksort(l,pivot-1,arr)\n",
    "        quicksort(pivot+1,h,arr)\n",
    "\n",
    "\n",
    "arr = [4,8,1,1,2,0]\n",
    "quicksort(0,len(arr)-1,arr)\n",
    "print(arr)"
   ]
  },
  {
   "cell_type": "markdown",
   "metadata": {},
   "source": [
    "merge sort"
   ]
  },
  {
   "cell_type": "code",
   "execution_count": 51,
   "metadata": {},
   "outputs": [
    {
     "name": "stdout",
     "output_type": "stream",
     "text": [
      "[1, 2, 3, 7, 9, 2, 5, 7]\n"
     ]
    }
   ],
   "source": [
    "def ms(arr):\n",
    "    if len(arr) > 1:\n",
    "        left = arr[:len(arr)//2]\n",
    "        right = arr[len(arr)//2:]\n",
    "\n",
    "        ms(left)\n",
    "        ms(right)\n",
    "        merge(arr,left,right)\n",
    "    \n",
    "def merge(arr,left,right):\n",
    "    i = j = k = 0\n",
    "\n",
    "    while i < len(left) and j < len(right):\n",
    "        if left[i] < right[j]:\n",
    "            arr[k] = left[i]\n",
    "            i+=1\n",
    "        else:\n",
    "            arr[k] = right[j]\n",
    "            j+=1\n",
    "        k+=1\n",
    "\n",
    "        while i<len(left):\n",
    "            arr[k] = left[i]\n",
    "            i+=1\n",
    "            k+=1\n",
    "        while j<len(right):\n",
    "            arr[k] = right[j]\n",
    "            j+=1\n",
    "            k+=1\n",
    "            \n",
    "arr = [3,7,2,9,1,2,5,7]\n",
    "ms(arr)\n",
    "print(arr)"
   ]
  },
  {
   "cell_type": "code",
   "execution_count": 50,
   "metadata": {},
   "outputs": [
    {
     "name": "stdout",
     "output_type": "stream",
     "text": [
      "[1, 3, 4, 4, 5, 7]\n"
     ]
    }
   ],
   "source": [
    "def MergeSort(arr):\n",
    "    \"\"\"Merge Sort is a divide-and-conquer sorting algorithm. It works by dividing the input array into two halves,\n",
    "      recursively sorting each half, and then merging the sorted halves to produce a single sorted array. This \n",
    "      process continues until the entire array is sorted.\n",
    "      1.Divide: Divide the unsorted list into two halves.\n",
    "      2.Conquer: Recursively sort each half.\n",
    "      3.Merge: Merge the sorted halves to produce a single sorted array.\n",
    "\n",
    "      Time Complexity : O(nlogn)\n",
    "      \"\"\"\n",
    "    if len(arr) > 1:\n",
    "        leftArray = arr[:len(arr) // 2]\n",
    "        rightArray = arr[len(arr) // 2:]\n",
    "\n",
    "        # recursion:\n",
    "        MergeSort(leftArray)\n",
    "        MergeSort(rightArray)\n",
    "        merge(arr,leftArray,rightArray)\n",
    "\n",
    "def merge(arr,leftArray,rightArray):\n",
    "    # merge step:\n",
    "    i = j = k = 0  # indices for leftArray, rightArray, and merged array\n",
    "\n",
    "    while i < len(leftArray) and j < len(rightArray):\n",
    "        if leftArray[i] < rightArray[j]:\n",
    "            arr[k] = leftArray[i]\n",
    "            i += 1\n",
    "        else:\n",
    "            arr[k] = rightArray[j]\n",
    "            j += 1\n",
    "        k += 1\n",
    "\n",
    "    while i < len(leftArray):\n",
    "        arr[k] = leftArray[i]\n",
    "        i += 1\n",
    "        k += 1\n",
    "    while j < len(rightArray):\n",
    "        arr[k] = rightArray[j]\n",
    "        j += 1\n",
    "        k += 1\n",
    "\n",
    "\n",
    "arr = [4,5,7,3,1,4]\n",
    "MergeSort(arr)\n",
    "print(arr)"
   ]
  }
 ],
 "metadata": {
  "kernelspec": {
   "display_name": "Python 3",
   "language": "python",
   "name": "python3"
  },
  "language_info": {
   "codemirror_mode": {
    "name": "ipython",
    "version": 3
   },
   "file_extension": ".py",
   "mimetype": "text/x-python",
   "name": "python",
   "nbconvert_exporter": "python",
   "pygments_lexer": "ipython3",
   "version": "3.11.2"
  }
 },
 "nbformat": 4,
 "nbformat_minor": 2
}
