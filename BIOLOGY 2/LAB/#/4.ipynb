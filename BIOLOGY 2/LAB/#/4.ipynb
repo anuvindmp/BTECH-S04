{
 "cells": [
  {
   "cell_type": "markdown",
   "metadata": {},
   "source": [
    "1"
   ]
  },
  {
   "cell_type": "code",
   "execution_count": 31,
   "metadata": {},
   "outputs": [],
   "source": [
    "codon_table = {\n",
    "    'A': ['GCT', 'GCC', 'GCA', 'GCG'],\n",
    "    'C': ['TGT', 'TGC'],\n",
    "    'D': ['GAT', 'GAC'],\n",
    "    'E': ['GAA', 'GAG'],\n",
    "    'F': ['TTT', 'TTC'],\n",
    "    'G': ['GGT', 'GGC', 'GGA', 'GGG'],\n",
    "    'H': ['CAT', 'CAC'],\n",
    "    'I': ['ATT', 'ATC', 'ATA'],\n",
    "    'K': ['AAA', 'AAG'],\n",
    "    'L': ['TTA', 'TTG', 'CTT', 'CTC', 'CTA', 'CTG'],\n",
    "    'M': ['ATG'],\n",
    "    'N': ['AAT', 'AAC'],\n",
    "    'P': ['CCT', 'CCC', 'CCA', 'CCG'],\n",
    "    'Q': ['CAA', 'CAG'],\n",
    "    'R': ['CGT', 'CGC', 'CGA', 'CGG', 'AGA', 'AGG'],\n",
    "    'S': ['TCT', 'TCC', 'TCA', 'TCG', 'AGT', 'AGC'],\n",
    "    'T': ['ACT', 'ACC', 'ACA', 'ACG'],\n",
    "    'V': ['GTT', 'GTC', 'GTA', 'GTG'],\n",
    "    'W': ['TGG'],\n",
    "    'Y': ['TAT', 'TAC'],\n",
    "    'Stop': ['TAA', 'TAG', 'TGA']\n",
    "}"
   ]
  },
  {
   "cell_type": "code",
   "execution_count": 32,
   "metadata": {},
   "outputs": [],
   "source": [
    "def reverseComplement(genome):\n",
    "    d = {\"A\":\"T\",\"T\":\"A\",\"G\":\"C\",\"C\":\"G\"}\n",
    "    return \"\".join([d[i] for i in genome][::-1])"
   ]
  },
  {
   "cell_type": "code",
   "execution_count": 33,
   "metadata": {},
   "outputs": [],
   "source": [
    "from itertools import product,permutations"
   ]
  },
  {
   "cell_type": "code",
   "execution_count": 34,
   "metadata": {},
   "outputs": [],
   "source": [
    "genome = \"ATGGCCATGGCCCCCAGAACTGAGATCAATAGTACCCGTATTAACGGGTGA\"\n",
    "amino_acid = \"MA\""
   ]
  },
  {
   "cell_type": "code",
   "execution_count": 35,
   "metadata": {},
   "outputs": [
    {
     "name": "stdout",
     "output_type": "stream",
     "text": [
      "[('ATG', 'GCT'), ('ATG', 'GCC'), ('ATG', 'GCA'), ('ATG', 'GCG')]\n",
      "['ATGGCT', 'ATGGCC', 'ATGGCA', 'ATGGCG', 'AGCCAT', 'GGCCAT', 'TGCCAT', 'CGCCAT']\n"
     ]
    }
   ],
   "source": [
    "rna_patterns = [codon_table[i] for i in amino_acid]\n",
    "rna = list(product(*rna_patterns))\n",
    "print(rna)\n",
    "rna = [\"\".join(i) for i in rna]\n",
    "\n",
    "for i in rna[:]:\n",
    "    rna.append(reverseComplement(i))\n",
    "\n",
    "print(rna)"
   ]
  },
  {
   "cell_type": "code",
   "execution_count": 36,
   "metadata": {},
   "outputs": [
    {
     "name": "stdout",
     "output_type": "stream",
     "text": [
      "['ATGGCC', 'GGCCAT', 'ATGGCC']\n"
     ]
    }
   ],
   "source": [
    "out = []\n",
    "k = len(amino_acid)*3\n",
    "for i in range(len(genome)-k):\n",
    "    if genome[i:i+k] in rna:\n",
    "        out.append(genome[i:i+k])\n",
    "\n",
    "print(out)"
   ]
  },
  {
   "cell_type": "markdown",
   "metadata": {},
   "source": [
    "2"
   ]
  },
  {
   "cell_type": "code",
   "execution_count": 37,
   "metadata": {},
   "outputs": [],
   "source": [
    "amino_acid_mass = {\n",
    "    'A': 71,\n",
    "    'C': 103,\n",
    "    'D': 115,\n",
    "    'E': 129,\n",
    "    'F': 147,\n",
    "    'G': 57,\n",
    "    'H': 137,\n",
    "    'I': 113,\n",
    "    'K': 128,\n",
    "    'L': 113,\n",
    "    'M': 131,\n",
    "    'N': 114,\n",
    "    'P': 97,\n",
    "    'Q': 128,\n",
    "    'R': 156,\n",
    "    'S': 87,\n",
    "    'T': 101,\n",
    "    'V': 99,\n",
    "    'W': 186,\n",
    "    'Y': 163\n",
    "}"
   ]
  },
  {
   "cell_type": "code",
   "execution_count": 38,
   "metadata": {},
   "outputs": [
    {
     "data": {
      "text/plain": [
       "[0, 113, 129, 128, 114, 242, 257, 242, 227, 370, 371, 355, 356, 484]"
      ]
     },
     "execution_count": 38,
     "metadata": {},
     "output_type": "execute_result"
    }
   ],
   "source": [
    "mass = lambda peptide: sum([amino_acid_mass[i] for i in peptide])\n",
    "\n",
    "peptide = \"LEQN\"\n",
    "\n",
    "def cyclospectrum(peptide):\n",
    "    ts = [0]\n",
    "    l = len(peptide)\n",
    "    peptide*=2\n",
    "    for i in range(1, l):\n",
    "        for j in range(l):\n",
    "            ts.append(mass(peptide[j:j+i]))\n",
    "    return ts+[mass(peptide[:l])]\n",
    "    \n",
    "cyclospectrum(peptide)"
   ]
  },
  {
   "cell_type": "markdown",
   "metadata": {},
   "source": [
    "3"
   ]
  },
  {
   "cell_type": "code",
   "execution_count": 41,
   "metadata": {},
   "outputs": [],
   "source": [
    "amino_acid_mass = {\n",
    "    'A': 71,\n",
    "    'C': 103,\n",
    "    'D': 115,\n",
    "    'E': 129,\n",
    "    'F': 147,\n",
    "    'G': 57,\n",
    "    'H': 137,\n",
    "    'L': 113,\n",
    "    'M': 131,\n",
    "    'N': 114,\n",
    "    'P': 97,\n",
    "    'Q': 128,\n",
    "    'I': 113,\n",
    "    'K': 128,\n",
    "    'R': 156,\n",
    "    'S': 87,\n",
    "    'T': 101,\n",
    "    'V': 99,\n",
    "    'W': 186,\n",
    "    'Y': 163\n",
    "}"
   ]
  },
  {
   "cell_type": "code",
   "execution_count": 47,
   "metadata": {},
   "outputs": [
    {
     "name": "stdout",
     "output_type": "stream",
     "text": [
      "LEQN\n"
     ]
    }
   ],
   "source": [
    "ts = [0, 113, 129, 128, 114, 242, 257, 242, 227, 370, 371, 355, 356, 484]\n",
    "\n",
    "length = lambda spectrum: int(len(spectrum)**0.5 + 1) if len(spectrum)>4 else int(len(spectrum)**0.5)\n",
    "\n",
    "\n",
    "def massSpectrometry(spectrum):\n",
    "    amino = list(amino_acid_mass.keys())\n",
    "    l = length(spectrum)\n",
    "    candidates = permutations(amino,l)\n",
    "                \n",
    "    for i in candidates:\n",
    "        if cyclospectrum(i) == spectrum:\n",
    "            return \"\".join(i)\n",
    "    \n",
    "    \n",
    "print(massSpectrometry(ts))\n",
    "    \n",
    "    \n",
    "    "
   ]
  },
  {
   "cell_type": "markdown",
   "metadata": {},
   "source": [
    "4"
   ]
  },
  {
   "cell_type": "code",
   "execution_count": 48,
   "metadata": {},
   "outputs": [],
   "source": [
    "amino_acid_mass = {\n",
    "    'A': 71,\n",
    "    'C': 103,\n",
    "    'D': 115,\n",
    "    'E': 129,\n",
    "    'F': 147,\n",
    "    'G': 57,\n",
    "    'H': 137,\n",
    "    'L': 113,\n",
    "    'M': 131,\n",
    "    'N': 114,\n",
    "    'P': 97,\n",
    "    'Q': 128,\n",
    "    'I': 113,\n",
    "    'K': 128,\n",
    "    'R': 156,\n",
    "    'S': 87,\n",
    "    'T': 101,\n",
    "    'V': 99,\n",
    "    'W': 186,\n",
    "    'Y': 163\n",
    "}"
   ]
  },
  {
   "cell_type": "code",
   "execution_count": 104,
   "metadata": {},
   "outputs": [
    {
     "name": "stdout",
     "output_type": "stream",
     "text": [
      "['L', 'I', 'E', 'Q', 'K', 'N']\n",
      "branch : ['LA', 'LC', 'LD', 'LE', 'LF', 'LG', 'LH', 'LL', 'LM', 'LN', 'LP', 'LQ', 'LI', 'LK', 'LR', 'LS', 'LT', 'LV', 'LW', 'LY', 'IA', 'IC', 'ID', 'IE', 'IF', 'IG', 'IH', 'IL', 'IM', 'IN', 'IP', 'IQ', 'II', 'IK', 'IR', 'IS', 'IT', 'IV', 'IW', 'IY', 'EA', 'EC', 'ED', 'EE', 'EF', 'EG', 'EH', 'EL', 'EM', 'EN', 'EP', 'EQ', 'EI', 'EK', 'ER', 'ES', 'ET', 'EV', 'EW', 'EY', 'QA', 'QC', 'QD', 'QE', 'QF', 'QG', 'QH', 'QL', 'QM', 'QN', 'QP', 'QQ', 'QI', 'QK', 'QR', 'QS', 'QT', 'QV', 'QW', 'QY', 'KA', 'KC', 'KD', 'KE', 'KF', 'KG', 'KH', 'KL', 'KM', 'KN', 'KP', 'KQ', 'KI', 'KK', 'KR', 'KS', 'KT', 'KV', 'KW', 'KY', 'NA', 'NC', 'ND', 'NE', 'NF', 'NG', 'NH', 'NL', 'NM', 'NN', 'NP', 'NQ', 'NI', 'NK', 'NR', 'NS', 'NT', 'NV', 'NW', 'NY']\n",
      "bound :  ['LE', 'LN', 'IE', 'IN', 'EL', 'EQ', 'EI', 'EK', 'QE', 'QN', 'QV', 'KE', 'KN', 'KV', 'NL', 'NQ', 'NI', 'NK']\n",
      "branch : ['LEA', 'LEC', 'LED', 'LEE', 'LEF', 'LEG', 'LEH', 'LEL', 'LEM', 'LEN', 'LEP', 'LEQ', 'LEI', 'LEK', 'LER', 'LES', 'LET', 'LEV', 'LEW', 'LEY', 'LNA', 'LNC', 'LND', 'LNE', 'LNF', 'LNG', 'LNH', 'LNL', 'LNM', 'LNN', 'LNP', 'LNQ', 'LNI', 'LNK', 'LNR', 'LNS', 'LNT', 'LNV', 'LNW', 'LNY', 'IEA', 'IEC', 'IED', 'IEE', 'IEF', 'IEG', 'IEH', 'IEL', 'IEM', 'IEN', 'IEP', 'IEQ', 'IEI', 'IEK', 'IER', 'IES', 'IET', 'IEV', 'IEW', 'IEY', 'INA', 'INC', 'IND', 'INE', 'INF', 'ING', 'INH', 'INL', 'INM', 'INN', 'INP', 'INQ', 'INI', 'INK', 'INR', 'INS', 'INT', 'INV', 'INW', 'INY', 'ELA', 'ELC', 'ELD', 'ELE', 'ELF', 'ELG', 'ELH', 'ELL', 'ELM', 'ELN', 'ELP', 'ELQ', 'ELI', 'ELK', 'ELR', 'ELS', 'ELT', 'ELV', 'ELW', 'ELY', 'EQA', 'EQC', 'EQD', 'EQE', 'EQF', 'EQG', 'EQH', 'EQL', 'EQM', 'EQN', 'EQP', 'EQQ', 'EQI', 'EQK', 'EQR', 'EQS', 'EQT', 'EQV', 'EQW', 'EQY', 'EIA', 'EIC', 'EID', 'EIE', 'EIF', 'EIG', 'EIH', 'EIL', 'EIM', 'EIN', 'EIP', 'EIQ', 'EII', 'EIK', 'EIR', 'EIS', 'EIT', 'EIV', 'EIW', 'EIY', 'EKA', 'EKC', 'EKD', 'EKE', 'EKF', 'EKG', 'EKH', 'EKL', 'EKM', 'EKN', 'EKP', 'EKQ', 'EKI', 'EKK', 'EKR', 'EKS', 'EKT', 'EKV', 'EKW', 'EKY', 'QEA', 'QEC', 'QED', 'QEE', 'QEF', 'QEG', 'QEH', 'QEL', 'QEM', 'QEN', 'QEP', 'QEQ', 'QEI', 'QEK', 'QER', 'QES', 'QET', 'QEV', 'QEW', 'QEY', 'QNA', 'QNC', 'QND', 'QNE', 'QNF', 'QNG', 'QNH', 'QNL', 'QNM', 'QNN', 'QNP', 'QNQ', 'QNI', 'QNK', 'QNR', 'QNS', 'QNT', 'QNV', 'QNW', 'QNY', 'QVA', 'QVC', 'QVD', 'QVE', 'QVF', 'QVG', 'QVH', 'QVL', 'QVM', 'QVN', 'QVP', 'QVQ', 'QVI', 'QVK', 'QVR', 'QVS', 'QVT', 'QVV', 'QVW', 'QVY', 'KEA', 'KEC', 'KED', 'KEE', 'KEF', 'KEG', 'KEH', 'KEL', 'KEM', 'KEN', 'KEP', 'KEQ', 'KEI', 'KEK', 'KER', 'KES', 'KET', 'KEV', 'KEW', 'KEY', 'KNA', 'KNC', 'KND', 'KNE', 'KNF', 'KNG', 'KNH', 'KNL', 'KNM', 'KNN', 'KNP', 'KNQ', 'KNI', 'KNK', 'KNR', 'KNS', 'KNT', 'KNV', 'KNW', 'KNY', 'KVA', 'KVC', 'KVD', 'KVE', 'KVF', 'KVG', 'KVH', 'KVL', 'KVM', 'KVN', 'KVP', 'KVQ', 'KVI', 'KVK', 'KVR', 'KVS', 'KVT', 'KVV', 'KVW', 'KVY', 'NLA', 'NLC', 'NLD', 'NLE', 'NLF', 'NLG', 'NLH', 'NLL', 'NLM', 'NLN', 'NLP', 'NLQ', 'NLI', 'NLK', 'NLR', 'NLS', 'NLT', 'NLV', 'NLW', 'NLY', 'NQA', 'NQC', 'NQD', 'NQE', 'NQF', 'NQG', 'NQH', 'NQL', 'NQM', 'NQN', 'NQP', 'NQQ', 'NQI', 'NQK', 'NQR', 'NQS', 'NQT', 'NQV', 'NQW', 'NQY', 'NIA', 'NIC', 'NID', 'NIE', 'NIF', 'NIG', 'NIH', 'NIL', 'NIM', 'NIN', 'NIP', 'NIQ', 'NII', 'NIK', 'NIR', 'NIS', 'NIT', 'NIV', 'NIW', 'NIY', 'NKA', 'NKC', 'NKD', 'NKE', 'NKF', 'NKG', 'NKH', 'NKL', 'NKM', 'NKN', 'NKP', 'NKQ', 'NKI', 'NKK', 'NKR', 'NKS', 'NKT', 'NKV', 'NKW', 'NKY']\n",
      "bound :  ['LEE', 'LEL', 'LEN', 'LEQ', 'LEI', 'LEK', 'LNE', 'LNQ', 'LNK', 'IEE', 'IEL', 'IEN', 'IEQ', 'IEI', 'IEK', 'INE', 'INQ', 'INK', 'ELE', 'ELL', 'ELN', 'ELQ', 'ELI', 'ELK', 'EQL', 'EQN', 'EQI', 'EQV', 'EIE', 'EIL', 'EIN', 'EIQ', 'EII', 'EIK', 'EKL', 'EKN', 'EKI', 'EKV', 'QEL', 'QEN', 'QEI', 'QEV', 'QNE', 'QNL', 'QNN', 'QNQ', 'QNI', 'QNK', 'QVE', 'QVQ', 'QVK', 'KEL', 'KEN', 'KEI', 'KEV', 'KNE', 'KNL', 'KNN', 'KNQ', 'KNI', 'KNK', 'KVE', 'KVQ', 'KVK', 'NLE', 'NLQ', 'NLK', 'NQE', 'NQL', 'NQN', 'NQQ', 'NQI', 'NQK', 'NIE', 'NIQ', 'NIK', 'NKE', 'NKL', 'NKN', 'NKQ', 'NKI', 'NKK']\n",
      "branch : ['LEEA', 'LEEC', 'LEED', 'LEEE', 'LEEF', 'LEEG', 'LEEH', 'LEEL', 'LEEM', 'LEEN', 'LEEP', 'LEEQ', 'LEEI', 'LEEK', 'LEER', 'LEES', 'LEET', 'LEEV', 'LEEW', 'LEEY', 'LELA', 'LELC', 'LELD', 'LELE', 'LELF', 'LELG', 'LELH', 'LELL', 'LELM', 'LELN', 'LELP', 'LELQ', 'LELI', 'LELK', 'LELR', 'LELS', 'LELT', 'LELV', 'LELW', 'LELY', 'LENA', 'LENC', 'LEND', 'LENE', 'LENF', 'LENG', 'LENH', 'LENL', 'LENM', 'LENN', 'LENP', 'LENQ', 'LENI', 'LENK', 'LENR', 'LENS', 'LENT', 'LENV', 'LENW', 'LENY', 'LEQA', 'LEQC', 'LEQD', 'LEQE', 'LEQF', 'LEQG', 'LEQH', 'LEQL', 'LEQM', 'LEQN', 'LEQP', 'LEQQ', 'LEQI', 'LEQK', 'LEQR', 'LEQS', 'LEQT', 'LEQV', 'LEQW', 'LEQY', 'LEIA', 'LEIC', 'LEID', 'LEIE', 'LEIF', 'LEIG', 'LEIH', 'LEIL', 'LEIM', 'LEIN', 'LEIP', 'LEIQ', 'LEII', 'LEIK', 'LEIR', 'LEIS', 'LEIT', 'LEIV', 'LEIW', 'LEIY', 'LEKA', 'LEKC', 'LEKD', 'LEKE', 'LEKF', 'LEKG', 'LEKH', 'LEKL', 'LEKM', 'LEKN', 'LEKP', 'LEKQ', 'LEKI', 'LEKK', 'LEKR', 'LEKS', 'LEKT', 'LEKV', 'LEKW', 'LEKY', 'LNEA', 'LNEC', 'LNED', 'LNEE', 'LNEF', 'LNEG', 'LNEH', 'LNEL', 'LNEM', 'LNEN', 'LNEP', 'LNEQ', 'LNEI', 'LNEK', 'LNER', 'LNES', 'LNET', 'LNEV', 'LNEW', 'LNEY', 'LNQA', 'LNQC', 'LNQD', 'LNQE', 'LNQF', 'LNQG', 'LNQH', 'LNQL', 'LNQM', 'LNQN', 'LNQP', 'LNQQ', 'LNQI', 'LNQK', 'LNQR', 'LNQS', 'LNQT', 'LNQV', 'LNQW', 'LNQY', 'LNKA', 'LNKC', 'LNKD', 'LNKE', 'LNKF', 'LNKG', 'LNKH', 'LNKL', 'LNKM', 'LNKN', 'LNKP', 'LNKQ', 'LNKI', 'LNKK', 'LNKR', 'LNKS', 'LNKT', 'LNKV', 'LNKW', 'LNKY', 'IEEA', 'IEEC', 'IEED', 'IEEE', 'IEEF', 'IEEG', 'IEEH', 'IEEL', 'IEEM', 'IEEN', 'IEEP', 'IEEQ', 'IEEI', 'IEEK', 'IEER', 'IEES', 'IEET', 'IEEV', 'IEEW', 'IEEY', 'IELA', 'IELC', 'IELD', 'IELE', 'IELF', 'IELG', 'IELH', 'IELL', 'IELM', 'IELN', 'IELP', 'IELQ', 'IELI', 'IELK', 'IELR', 'IELS', 'IELT', 'IELV', 'IELW', 'IELY', 'IENA', 'IENC', 'IEND', 'IENE', 'IENF', 'IENG', 'IENH', 'IENL', 'IENM', 'IENN', 'IENP', 'IENQ', 'IENI', 'IENK', 'IENR', 'IENS', 'IENT', 'IENV', 'IENW', 'IENY', 'IEQA', 'IEQC', 'IEQD', 'IEQE', 'IEQF', 'IEQG', 'IEQH', 'IEQL', 'IEQM', 'IEQN', 'IEQP', 'IEQQ', 'IEQI', 'IEQK', 'IEQR', 'IEQS', 'IEQT', 'IEQV', 'IEQW', 'IEQY', 'IEIA', 'IEIC', 'IEID', 'IEIE', 'IEIF', 'IEIG', 'IEIH', 'IEIL', 'IEIM', 'IEIN', 'IEIP', 'IEIQ', 'IEII', 'IEIK', 'IEIR', 'IEIS', 'IEIT', 'IEIV', 'IEIW', 'IEIY', 'IEKA', 'IEKC', 'IEKD', 'IEKE', 'IEKF', 'IEKG', 'IEKH', 'IEKL', 'IEKM', 'IEKN', 'IEKP', 'IEKQ', 'IEKI', 'IEKK', 'IEKR', 'IEKS', 'IEKT', 'IEKV', 'IEKW', 'IEKY', 'INEA', 'INEC', 'INED', 'INEE', 'INEF', 'INEG', 'INEH', 'INEL', 'INEM', 'INEN', 'INEP', 'INEQ', 'INEI', 'INEK', 'INER', 'INES', 'INET', 'INEV', 'INEW', 'INEY', 'INQA', 'INQC', 'INQD', 'INQE', 'INQF', 'INQG', 'INQH', 'INQL', 'INQM', 'INQN', 'INQP', 'INQQ', 'INQI', 'INQK', 'INQR', 'INQS', 'INQT', 'INQV', 'INQW', 'INQY', 'INKA', 'INKC', 'INKD', 'INKE', 'INKF', 'INKG', 'INKH', 'INKL', 'INKM', 'INKN', 'INKP', 'INKQ', 'INKI', 'INKK', 'INKR', 'INKS', 'INKT', 'INKV', 'INKW', 'INKY', 'ELEA', 'ELEC', 'ELED', 'ELEE', 'ELEF', 'ELEG', 'ELEH', 'ELEL', 'ELEM', 'ELEN', 'ELEP', 'ELEQ', 'ELEI', 'ELEK', 'ELER', 'ELES', 'ELET', 'ELEV', 'ELEW', 'ELEY', 'ELLA', 'ELLC', 'ELLD', 'ELLE', 'ELLF', 'ELLG', 'ELLH', 'ELLL', 'ELLM', 'ELLN', 'ELLP', 'ELLQ', 'ELLI', 'ELLK', 'ELLR', 'ELLS', 'ELLT', 'ELLV', 'ELLW', 'ELLY', 'ELNA', 'ELNC', 'ELND', 'ELNE', 'ELNF', 'ELNG', 'ELNH', 'ELNL', 'ELNM', 'ELNN', 'ELNP', 'ELNQ', 'ELNI', 'ELNK', 'ELNR', 'ELNS', 'ELNT', 'ELNV', 'ELNW', 'ELNY', 'ELQA', 'ELQC', 'ELQD', 'ELQE', 'ELQF', 'ELQG', 'ELQH', 'ELQL', 'ELQM', 'ELQN', 'ELQP', 'ELQQ', 'ELQI', 'ELQK', 'ELQR', 'ELQS', 'ELQT', 'ELQV', 'ELQW', 'ELQY', 'ELIA', 'ELIC', 'ELID', 'ELIE', 'ELIF', 'ELIG', 'ELIH', 'ELIL', 'ELIM', 'ELIN', 'ELIP', 'ELIQ', 'ELII', 'ELIK', 'ELIR', 'ELIS', 'ELIT', 'ELIV', 'ELIW', 'ELIY', 'ELKA', 'ELKC', 'ELKD', 'ELKE', 'ELKF', 'ELKG', 'ELKH', 'ELKL', 'ELKM', 'ELKN', 'ELKP', 'ELKQ', 'ELKI', 'ELKK', 'ELKR', 'ELKS', 'ELKT', 'ELKV', 'ELKW', 'ELKY', 'EQLA', 'EQLC', 'EQLD', 'EQLE', 'EQLF', 'EQLG', 'EQLH', 'EQLL', 'EQLM', 'EQLN', 'EQLP', 'EQLQ', 'EQLI', 'EQLK', 'EQLR', 'EQLS', 'EQLT', 'EQLV', 'EQLW', 'EQLY', 'EQNA', 'EQNC', 'EQND', 'EQNE', 'EQNF', 'EQNG', 'EQNH', 'EQNL', 'EQNM', 'EQNN', 'EQNP', 'EQNQ', 'EQNI', 'EQNK', 'EQNR', 'EQNS', 'EQNT', 'EQNV', 'EQNW', 'EQNY', 'EQIA', 'EQIC', 'EQID', 'EQIE', 'EQIF', 'EQIG', 'EQIH', 'EQIL', 'EQIM', 'EQIN', 'EQIP', 'EQIQ', 'EQII', 'EQIK', 'EQIR', 'EQIS', 'EQIT', 'EQIV', 'EQIW', 'EQIY', 'EQVA', 'EQVC', 'EQVD', 'EQVE', 'EQVF', 'EQVG', 'EQVH', 'EQVL', 'EQVM', 'EQVN', 'EQVP', 'EQVQ', 'EQVI', 'EQVK', 'EQVR', 'EQVS', 'EQVT', 'EQVV', 'EQVW', 'EQVY', 'EIEA', 'EIEC', 'EIED', 'EIEE', 'EIEF', 'EIEG', 'EIEH', 'EIEL', 'EIEM', 'EIEN', 'EIEP', 'EIEQ', 'EIEI', 'EIEK', 'EIER', 'EIES', 'EIET', 'EIEV', 'EIEW', 'EIEY', 'EILA', 'EILC', 'EILD', 'EILE', 'EILF', 'EILG', 'EILH', 'EILL', 'EILM', 'EILN', 'EILP', 'EILQ', 'EILI', 'EILK', 'EILR', 'EILS', 'EILT', 'EILV', 'EILW', 'EILY', 'EINA', 'EINC', 'EIND', 'EINE', 'EINF', 'EING', 'EINH', 'EINL', 'EINM', 'EINN', 'EINP', 'EINQ', 'EINI', 'EINK', 'EINR', 'EINS', 'EINT', 'EINV', 'EINW', 'EINY', 'EIQA', 'EIQC', 'EIQD', 'EIQE', 'EIQF', 'EIQG', 'EIQH', 'EIQL', 'EIQM', 'EIQN', 'EIQP', 'EIQQ', 'EIQI', 'EIQK', 'EIQR', 'EIQS', 'EIQT', 'EIQV', 'EIQW', 'EIQY', 'EIIA', 'EIIC', 'EIID', 'EIIE', 'EIIF', 'EIIG', 'EIIH', 'EIIL', 'EIIM', 'EIIN', 'EIIP', 'EIIQ', 'EIII', 'EIIK', 'EIIR', 'EIIS', 'EIIT', 'EIIV', 'EIIW', 'EIIY', 'EIKA', 'EIKC', 'EIKD', 'EIKE', 'EIKF', 'EIKG', 'EIKH', 'EIKL', 'EIKM', 'EIKN', 'EIKP', 'EIKQ', 'EIKI', 'EIKK', 'EIKR', 'EIKS', 'EIKT', 'EIKV', 'EIKW', 'EIKY', 'EKLA', 'EKLC', 'EKLD', 'EKLE', 'EKLF', 'EKLG', 'EKLH', 'EKLL', 'EKLM', 'EKLN', 'EKLP', 'EKLQ', 'EKLI', 'EKLK', 'EKLR', 'EKLS', 'EKLT', 'EKLV', 'EKLW', 'EKLY', 'EKNA', 'EKNC', 'EKND', 'EKNE', 'EKNF', 'EKNG', 'EKNH', 'EKNL', 'EKNM', 'EKNN', 'EKNP', 'EKNQ', 'EKNI', 'EKNK', 'EKNR', 'EKNS', 'EKNT', 'EKNV', 'EKNW', 'EKNY', 'EKIA', 'EKIC', 'EKID', 'EKIE', 'EKIF', 'EKIG', 'EKIH', 'EKIL', 'EKIM', 'EKIN', 'EKIP', 'EKIQ', 'EKII', 'EKIK', 'EKIR', 'EKIS', 'EKIT', 'EKIV', 'EKIW', 'EKIY', 'EKVA', 'EKVC', 'EKVD', 'EKVE', 'EKVF', 'EKVG', 'EKVH', 'EKVL', 'EKVM', 'EKVN', 'EKVP', 'EKVQ', 'EKVI', 'EKVK', 'EKVR', 'EKVS', 'EKVT', 'EKVV', 'EKVW', 'EKVY', 'QELA', 'QELC', 'QELD', 'QELE', 'QELF', 'QELG', 'QELH', 'QELL', 'QELM', 'QELN', 'QELP', 'QELQ', 'QELI', 'QELK', 'QELR', 'QELS', 'QELT', 'QELV', 'QELW', 'QELY', 'QENA', 'QENC', 'QEND', 'QENE', 'QENF', 'QENG', 'QENH', 'QENL', 'QENM', 'QENN', 'QENP', 'QENQ', 'QENI', 'QENK', 'QENR', 'QENS', 'QENT', 'QENV', 'QENW', 'QENY', 'QEIA', 'QEIC', 'QEID', 'QEIE', 'QEIF', 'QEIG', 'QEIH', 'QEIL', 'QEIM', 'QEIN', 'QEIP', 'QEIQ', 'QEII', 'QEIK', 'QEIR', 'QEIS', 'QEIT', 'QEIV', 'QEIW', 'QEIY', 'QEVA', 'QEVC', 'QEVD', 'QEVE', 'QEVF', 'QEVG', 'QEVH', 'QEVL', 'QEVM', 'QEVN', 'QEVP', 'QEVQ', 'QEVI', 'QEVK', 'QEVR', 'QEVS', 'QEVT', 'QEVV', 'QEVW', 'QEVY', 'QNEA', 'QNEC', 'QNED', 'QNEE', 'QNEF', 'QNEG', 'QNEH', 'QNEL', 'QNEM', 'QNEN', 'QNEP', 'QNEQ', 'QNEI', 'QNEK', 'QNER', 'QNES', 'QNET', 'QNEV', 'QNEW', 'QNEY', 'QNLA', 'QNLC', 'QNLD', 'QNLE', 'QNLF', 'QNLG', 'QNLH', 'QNLL', 'QNLM', 'QNLN', 'QNLP', 'QNLQ', 'QNLI', 'QNLK', 'QNLR', 'QNLS', 'QNLT', 'QNLV', 'QNLW', 'QNLY', 'QNNA', 'QNNC', 'QNND', 'QNNE', 'QNNF', 'QNNG', 'QNNH', 'QNNL', 'QNNM', 'QNNN', 'QNNP', 'QNNQ', 'QNNI', 'QNNK', 'QNNR', 'QNNS', 'QNNT', 'QNNV', 'QNNW', 'QNNY', 'QNQA', 'QNQC', 'QNQD', 'QNQE', 'QNQF', 'QNQG', 'QNQH', 'QNQL', 'QNQM', 'QNQN', 'QNQP', 'QNQQ', 'QNQI', 'QNQK', 'QNQR', 'QNQS', 'QNQT', 'QNQV', 'QNQW', 'QNQY', 'QNIA', 'QNIC', 'QNID', 'QNIE', 'QNIF', 'QNIG', 'QNIH', 'QNIL', 'QNIM', 'QNIN', 'QNIP', 'QNIQ', 'QNII', 'QNIK', 'QNIR', 'QNIS', 'QNIT', 'QNIV', 'QNIW', 'QNIY', 'QNKA', 'QNKC', 'QNKD', 'QNKE', 'QNKF', 'QNKG', 'QNKH', 'QNKL', 'QNKM', 'QNKN', 'QNKP', 'QNKQ', 'QNKI', 'QNKK', 'QNKR', 'QNKS', 'QNKT', 'QNKV', 'QNKW', 'QNKY', 'QVEA', 'QVEC', 'QVED', 'QVEE', 'QVEF', 'QVEG', 'QVEH', 'QVEL', 'QVEM', 'QVEN', 'QVEP', 'QVEQ', 'QVEI', 'QVEK', 'QVER', 'QVES', 'QVET', 'QVEV', 'QVEW', 'QVEY', 'QVQA', 'QVQC', 'QVQD', 'QVQE', 'QVQF', 'QVQG', 'QVQH', 'QVQL', 'QVQM', 'QVQN', 'QVQP', 'QVQQ', 'QVQI', 'QVQK', 'QVQR', 'QVQS', 'QVQT', 'QVQV', 'QVQW', 'QVQY', 'QVKA', 'QVKC', 'QVKD', 'QVKE', 'QVKF', 'QVKG', 'QVKH', 'QVKL', 'QVKM', 'QVKN', 'QVKP', 'QVKQ', 'QVKI', 'QVKK', 'QVKR', 'QVKS', 'QVKT', 'QVKV', 'QVKW', 'QVKY', 'KELA', 'KELC', 'KELD', 'KELE', 'KELF', 'KELG', 'KELH', 'KELL', 'KELM', 'KELN', 'KELP', 'KELQ', 'KELI', 'KELK', 'KELR', 'KELS', 'KELT', 'KELV', 'KELW', 'KELY', 'KENA', 'KENC', 'KEND', 'KENE', 'KENF', 'KENG', 'KENH', 'KENL', 'KENM', 'KENN', 'KENP', 'KENQ', 'KENI', 'KENK', 'KENR', 'KENS', 'KENT', 'KENV', 'KENW', 'KENY', 'KEIA', 'KEIC', 'KEID', 'KEIE', 'KEIF', 'KEIG', 'KEIH', 'KEIL', 'KEIM', 'KEIN', 'KEIP', 'KEIQ', 'KEII', 'KEIK', 'KEIR', 'KEIS', 'KEIT', 'KEIV', 'KEIW', 'KEIY', 'KEVA', 'KEVC', 'KEVD', 'KEVE', 'KEVF', 'KEVG', 'KEVH', 'KEVL', 'KEVM', 'KEVN', 'KEVP', 'KEVQ', 'KEVI', 'KEVK', 'KEVR', 'KEVS', 'KEVT', 'KEVV', 'KEVW', 'KEVY', 'KNEA', 'KNEC', 'KNED', 'KNEE', 'KNEF', 'KNEG', 'KNEH', 'KNEL', 'KNEM', 'KNEN', 'KNEP', 'KNEQ', 'KNEI', 'KNEK', 'KNER', 'KNES', 'KNET', 'KNEV', 'KNEW', 'KNEY', 'KNLA', 'KNLC', 'KNLD', 'KNLE', 'KNLF', 'KNLG', 'KNLH', 'KNLL', 'KNLM', 'KNLN', 'KNLP', 'KNLQ', 'KNLI', 'KNLK', 'KNLR', 'KNLS', 'KNLT', 'KNLV', 'KNLW', 'KNLY', 'KNNA', 'KNNC', 'KNND', 'KNNE', 'KNNF', 'KNNG', 'KNNH', 'KNNL', 'KNNM', 'KNNN', 'KNNP', 'KNNQ', 'KNNI', 'KNNK', 'KNNR', 'KNNS', 'KNNT', 'KNNV', 'KNNW', 'KNNY', 'KNQA', 'KNQC', 'KNQD', 'KNQE', 'KNQF', 'KNQG', 'KNQH', 'KNQL', 'KNQM', 'KNQN', 'KNQP', 'KNQQ', 'KNQI', 'KNQK', 'KNQR', 'KNQS', 'KNQT', 'KNQV', 'KNQW', 'KNQY', 'KNIA', 'KNIC', 'KNID', 'KNIE', 'KNIF', 'KNIG', 'KNIH', 'KNIL', 'KNIM', 'KNIN', 'KNIP', 'KNIQ', 'KNII', 'KNIK', 'KNIR', 'KNIS', 'KNIT', 'KNIV', 'KNIW', 'KNIY', 'KNKA', 'KNKC', 'KNKD', 'KNKE', 'KNKF', 'KNKG', 'KNKH', 'KNKL', 'KNKM', 'KNKN', 'KNKP', 'KNKQ', 'KNKI', 'KNKK', 'KNKR', 'KNKS', 'KNKT', 'KNKV', 'KNKW', 'KNKY', 'KVEA', 'KVEC', 'KVED', 'KVEE', 'KVEF', 'KVEG', 'KVEH', 'KVEL', 'KVEM', 'KVEN', 'KVEP', 'KVEQ', 'KVEI', 'KVEK', 'KVER', 'KVES', 'KVET', 'KVEV', 'KVEW', 'KVEY', 'KVQA', 'KVQC', 'KVQD', 'KVQE', 'KVQF', 'KVQG', 'KVQH', 'KVQL', 'KVQM', 'KVQN', 'KVQP', 'KVQQ', 'KVQI', 'KVQK', 'KVQR', 'KVQS', 'KVQT', 'KVQV', 'KVQW', 'KVQY', 'KVKA', 'KVKC', 'KVKD', 'KVKE', 'KVKF', 'KVKG', 'KVKH', 'KVKL', 'KVKM', 'KVKN', 'KVKP', 'KVKQ', 'KVKI', 'KVKK', 'KVKR', 'KVKS', 'KVKT', 'KVKV', 'KVKW', 'KVKY', 'NLEA', 'NLEC', 'NLED', 'NLEE', 'NLEF', 'NLEG', 'NLEH', 'NLEL', 'NLEM', 'NLEN', 'NLEP', 'NLEQ', 'NLEI', 'NLEK', 'NLER', 'NLES', 'NLET', 'NLEV', 'NLEW', 'NLEY', 'NLQA', 'NLQC', 'NLQD', 'NLQE', 'NLQF', 'NLQG', 'NLQH', 'NLQL', 'NLQM', 'NLQN', 'NLQP', 'NLQQ', 'NLQI', 'NLQK', 'NLQR', 'NLQS', 'NLQT', 'NLQV', 'NLQW', 'NLQY', 'NLKA', 'NLKC', 'NLKD', 'NLKE', 'NLKF', 'NLKG', 'NLKH', 'NLKL', 'NLKM', 'NLKN', 'NLKP', 'NLKQ', 'NLKI', 'NLKK', 'NLKR', 'NLKS', 'NLKT', 'NLKV', 'NLKW', 'NLKY', 'NQEA', 'NQEC', 'NQED', 'NQEE', 'NQEF', 'NQEG', 'NQEH', 'NQEL', 'NQEM', 'NQEN', 'NQEP', 'NQEQ', 'NQEI', 'NQEK', 'NQER', 'NQES', 'NQET', 'NQEV', 'NQEW', 'NQEY', 'NQLA', 'NQLC', 'NQLD', 'NQLE', 'NQLF', 'NQLG', 'NQLH', 'NQLL', 'NQLM', 'NQLN', 'NQLP', 'NQLQ', 'NQLI', 'NQLK', 'NQLR', 'NQLS', 'NQLT', 'NQLV', 'NQLW', 'NQLY', 'NQNA', 'NQNC', 'NQND', 'NQNE', 'NQNF', 'NQNG', 'NQNH', 'NQNL', 'NQNM', 'NQNN', 'NQNP', 'NQNQ', 'NQNI', 'NQNK', 'NQNR', 'NQNS', 'NQNT', 'NQNV', 'NQNW', 'NQNY', 'NQQA', 'NQQC', 'NQQD', 'NQQE', 'NQQF', 'NQQG', 'NQQH', 'NQQL', 'NQQM', 'NQQN', 'NQQP', 'NQQQ', 'NQQI', 'NQQK', 'NQQR', 'NQQS', 'NQQT', 'NQQV', 'NQQW', 'NQQY', 'NQIA', 'NQIC', 'NQID', 'NQIE', 'NQIF', 'NQIG', 'NQIH', 'NQIL', 'NQIM', 'NQIN', 'NQIP', 'NQIQ', 'NQII', 'NQIK', 'NQIR', 'NQIS', 'NQIT', 'NQIV', 'NQIW', 'NQIY', 'NQKA', 'NQKC', 'NQKD', 'NQKE', 'NQKF', 'NQKG', 'NQKH', 'NQKL', 'NQKM', 'NQKN', 'NQKP', 'NQKQ', 'NQKI', 'NQKK', 'NQKR', 'NQKS', 'NQKT', 'NQKV', 'NQKW', 'NQKY', 'NIEA', 'NIEC', 'NIED', 'NIEE', 'NIEF', 'NIEG', 'NIEH', 'NIEL', 'NIEM', 'NIEN', 'NIEP', 'NIEQ', 'NIEI', 'NIEK', 'NIER', 'NIES', 'NIET', 'NIEV', 'NIEW', 'NIEY', 'NIQA', 'NIQC', 'NIQD', 'NIQE', 'NIQF', 'NIQG', 'NIQH', 'NIQL', 'NIQM', 'NIQN', 'NIQP', 'NIQQ', 'NIQI', 'NIQK', 'NIQR', 'NIQS', 'NIQT', 'NIQV', 'NIQW', 'NIQY', 'NIKA', 'NIKC', 'NIKD', 'NIKE', 'NIKF', 'NIKG', 'NIKH', 'NIKL', 'NIKM', 'NIKN', 'NIKP', 'NIKQ', 'NIKI', 'NIKK', 'NIKR', 'NIKS', 'NIKT', 'NIKV', 'NIKW', 'NIKY', 'NKEA', 'NKEC', 'NKED', 'NKEE', 'NKEF', 'NKEG', 'NKEH', 'NKEL', 'NKEM', 'NKEN', 'NKEP', 'NKEQ', 'NKEI', 'NKEK', 'NKER', 'NKES', 'NKET', 'NKEV', 'NKEW', 'NKEY', 'NKLA', 'NKLC', 'NKLD', 'NKLE', 'NKLF', 'NKLG', 'NKLH', 'NKLL', 'NKLM', 'NKLN', 'NKLP', 'NKLQ', 'NKLI', 'NKLK', 'NKLR', 'NKLS', 'NKLT', 'NKLV', 'NKLW', 'NKLY', 'NKNA', 'NKNC', 'NKND', 'NKNE', 'NKNF', 'NKNG', 'NKNH', 'NKNL', 'NKNM', 'NKNN', 'NKNP', 'NKNQ', 'NKNI', 'NKNK', 'NKNR', 'NKNS', 'NKNT', 'NKNV', 'NKNW', 'NKNY', 'NKQA', 'NKQC', 'NKQD', 'NKQE', 'NKQF', 'NKQG', 'NKQH', 'NKQL', 'NKQM', 'NKQN', 'NKQP', 'NKQQ', 'NKQI', 'NKQK', 'NKQR', 'NKQS', 'NKQT', 'NKQV', 'NKQW', 'NKQY', 'NKIA', 'NKIC', 'NKID', 'NKIE', 'NKIF', 'NKIG', 'NKIH', 'NKIL', 'NKIM', 'NKIN', 'NKIP', 'NKIQ', 'NKII', 'NKIK', 'NKIR', 'NKIS', 'NKIT', 'NKIV', 'NKIW', 'NKIY', 'NKKA', 'NKKC', 'NKKD', 'NKKE', 'NKKF', 'NKKG', 'NKKH', 'NKKL', 'NKKM', 'NKKN', 'NKKP', 'NKKQ', 'NKKI', 'NKKK', 'NKKR', 'NKKS', 'NKKT', 'NKKV', 'NKKW', 'NKKY']\n",
      "bound :  ['LEEL', 'LEEI', 'LELE', 'LENQ', 'LENK', 'LEQN', 'LEIE', 'LEKN', 'LNEQ', 'LNEK', 'LNQE', 'LNKE', 'IEEL', 'IEEI', 'IELE', 'IENQ', 'IENK', 'IEQN', 'IEIE', 'IEKN', 'INEQ', 'INEK', 'INQE', 'INKE', 'ELEL', 'ELEI', 'ELLE', 'ELNQ', 'ELNK', 'ELQN', 'ELIE', 'ELKN', 'EQLN', 'EQNL', 'EQNI', 'EQIN', 'EQVQ', 'EQVK', 'EIEL', 'EIEI', 'EILE', 'EINQ', 'EINK', 'EIQN', 'EIIE', 'EIKN', 'EKLN', 'EKNL', 'EKNI', 'EKIN', 'EKVQ', 'EKVK', 'QELN', 'QENL', 'QENI', 'QEIN', 'QEVQ', 'QEVK', 'QNEL', 'QNEI', 'QNLE', 'QNNQ', 'QNNK', 'QNQN', 'QNIE', 'QNKN', 'QVEQ', 'QVEK', 'QVQE', 'QVKE', 'KELN', 'KENL', 'KENI', 'KEIN', 'KEVQ', 'KEVK', 'KNEL', 'KNEI', 'KNLE', 'KNNQ', 'KNNK', 'KNQN', 'KNIE', 'KNKN', 'KVEQ', 'KVEK', 'KVQE', 'KVKE', 'NLEQ', 'NLEK', 'NLQE', 'NLKE', 'NQEL', 'NQEI', 'NQLE', 'NQNQ', 'NQNK', 'NQQN', 'NQIE', 'NQKN', 'NIEQ', 'NIEK', 'NIQE', 'NIKE', 'NKEL', 'NKEI', 'NKLE', 'NKNQ', 'NKNK', 'NKQN', 'NKIE', 'NKKN']\n",
      "\n",
      " peptide :  ['LEQN', 'LEKN', 'IEQN', 'IEKN']\n"
     ]
    }
   ],
   "source": [
    "def cyclospectrum(peptide):\n",
    "    m = mass(peptide)\n",
    "    ts = [0]\n",
    "    l = len(peptide)\n",
    "    peptide*=2\n",
    "    for i in range(1,l):\n",
    "        for j in range(l):\n",
    "            ts.append(mass(peptide[j:j+i]))\n",
    "    ts.append(m)\n",
    "    return ts \n",
    "    \n",
    "def branch(candidates):\n",
    "    amino = amino_acid_mass.keys()\n",
    "    temp = []\n",
    "    for i in candidates:\n",
    "        for j in amino:\n",
    "            c = i+j\n",
    "            temp.append(c)\n",
    "    print(\"branch :\", temp)\n",
    "    return temp\n",
    "\n",
    "def bound(candidates, spectrum):\n",
    "    temp = [i for i in candidates if mass(i) in spectrum]\n",
    "    print(\"bound : \",temp)\n",
    "    return temp\n",
    "\n",
    "\n",
    "def mass(peptide):\n",
    "    m = 0\n",
    "    for i in peptide:\n",
    "        m += amino_acid_mass[i]\n",
    "    return m\n",
    "\n",
    "def length(spectrum):\n",
    "    l = len(spectrum)\n",
    "    if l>4:\n",
    "        return int(l**0.5)+1\n",
    "    else:\n",
    "        return int(l**0.5)\n",
    "\n",
    "\n",
    "def massSpec(spectrum):\n",
    "    candidates = []\n",
    "\n",
    "    for i in spectrum:\n",
    "        for j in amino_acid_mass:\n",
    "            if i == amino_acid_mass[j]:\n",
    "                candidates.append(j)\n",
    "    print(candidates)\n",
    "    l = length(spectrum)\n",
    "    \n",
    "\n",
    "    for i in range(l-1):\n",
    "        candidates = branch(candidates)\n",
    "        candidates = bound(candidates, spectrum)\n",
    "\n",
    "    out = []\n",
    "    for i in candidates:\n",
    "        if cyclospectrum(i) == spectrum:\n",
    "            out.append(i)\n",
    "    return out\n",
    "    \n",
    "es = [0, 113, 129, 128, 114, 242, 257, 242, 227, 370, 371, 355, 356, 484]\n",
    "print(\"\\n peptide : \", massSpec(es))\n"
   ]
  }
 ],
 "metadata": {
  "kernelspec": {
   "display_name": "Python 3",
   "language": "python",
   "name": "python3"
  },
  "language_info": {
   "codemirror_mode": {
    "name": "ipython",
    "version": 3
   },
   "file_extension": ".py",
   "mimetype": "text/x-python",
   "name": "python",
   "nbconvert_exporter": "python",
   "pygments_lexer": "ipython3",
   "version": "3.11.2"
  }
 },
 "nbformat": 4,
 "nbformat_minor": 2
}
