{
 "cells": [
  {
   "cell_type": "markdown",
   "metadata": {},
   "source": [
    "1"
   ]
  },
  {
   "cell_type": "code",
   "execution_count": 55,
   "metadata": {},
   "outputs": [],
   "source": [
    "amino_acid_mass = {\n",
    "    'A': 71,\n",
    "    'C': 103,\n",
    "    'D': 115,\n",
    "    'E': 129,\n",
    "    'F': 147,\n",
    "    'G': 57,\n",
    "    'H': 137,\n",
    "    'I': 113,\n",
    "    'K': 128,\n",
    "    'L': 113,\n",
    "    'M': 131,\n",
    "    'N': 114,\n",
    "    'P': 97,\n",
    "    'Q': 128,\n",
    "    'R': 156,\n",
    "    'S': 87,\n",
    "    'T': 101,\n",
    "    'V': 99,\n",
    "    'W': 186,\n",
    "    'Y': 163\n",
    "}"
   ]
  },
  {
   "cell_type": "code",
   "execution_count": 2,
   "metadata": {},
   "outputs": [],
   "source": [
    "def mass(peptide):\n",
    "    m = 0\n",
    "    for i in peptide:\n",
    "        m+=amino_acid_mass[i]\n",
    "    return m"
   ]
  },
  {
   "cell_type": "code",
   "execution_count": 26,
   "metadata": {},
   "outputs": [],
   "source": [
    "def cyclospectrum(peptide):\n",
    "    ts = [0]\n",
    "    m = mass(peptide)\n",
    "    l = len(peptide)\n",
    "    peptide*=2\n",
    "    for i in range(1,l):\n",
    "        for j in range(l):\n",
    "            ts.append(mass(peptide[j:j+i]))\n",
    "    ts.append(m)\n",
    "    return ts\n"
   ]
  },
  {
   "cell_type": "code",
   "execution_count": 21,
   "metadata": {},
   "outputs": [],
   "source": [
    "def score(peptide, spectrum):\n",
    "    ts = cyclospectrum(peptide)\n",
    "    cnt = 0\n",
    "    for i in spectrum:\n",
    "        if i in ts:\n",
    "            cnt += 1\n",
    "    return cnt"
   ]
  },
  {
   "cell_type": "code",
   "execution_count": 28,
   "metadata": {},
   "outputs": [
    {
     "data": {
      "text/plain": [
       "11"
      ]
     },
     "execution_count": 28,
     "metadata": {},
     "output_type": "execute_result"
    }
   ],
   "source": [
    "es = [0, 99, 113, 114, 128, 227, 257, 299, 355, 356, 370, 371, 484]\n",
    "peptide = 'NQEL'\n",
    "\n",
    "score(peptide,es)"
   ]
  },
  {
   "cell_type": "markdown",
   "metadata": {},
   "source": [
    "2"
   ]
  },
  {
   "cell_type": "code",
   "execution_count": 71,
   "metadata": {},
   "outputs": [
    {
     "name": "stdout",
     "output_type": "stream",
     "text": [
      "{0: [], 113: [113], 114: [114, 1], 128: [128, 15, 14], 129: [129, 16, 15, 1], 227: [227, 114, 113, 99, 98], 242: [242, 129, 128, 114, 113, 15, 242, 129, 128, 114, 113, 15], 257: [257, 144, 143, 129, 128, 30, 15, 15], 355: [355, 242, 241, 227, 226, 128, 113, 113, 98], 356: [356, 243, 242, 228, 227, 129, 114, 114, 99, 1], 370: [370, 257, 256, 242, 241, 143, 128, 128, 113, 15, 14], 371: [371, 258, 257, 243, 242, 144, 129, 129, 114, 16, 15, 1], 484: [484, 371, 370, 356, 355, 257, 242, 242, 227, 129, 128, 114, 113]}\n",
      "{113: 8, 114: 8, 128: 8, 129: 8}\n"
     ]
    }
   ],
   "source": [
    "def convol(spectrum):\n",
    "    d = {}\n",
    "    for i in spectrum:\n",
    "        d[i] = []\n",
    "    for i in spectrum:\n",
    "        for j in spectrum:\n",
    "            if i-j>0:\n",
    "                d[i].append(i-j)\n",
    "    print(d)\n",
    "\n",
    "    vals = d.values()\n",
    "    v = []\n",
    "    for i in vals:\n",
    "        for j in i:\n",
    "            v.append(j)\n",
    "\n",
    "    masses = list(amino_acid_mass.values())\n",
    "    \n",
    "    for i in spectrum:\n",
    "        d[i] = v.count(i)\n",
    "\n",
    "    v = d.values()\n",
    "    m = max(v)\n",
    "    k = [i for i in d if d[i] == max(d.values())]\n",
    "\n",
    "    k = [i for i in k if i in masses]\n",
    "    d = {}\n",
    "    for i in k:\n",
    "        d[i] = m\n",
    "\n",
    "    print(d)\n",
    "   \n",
    "    \n",
    "spectrum = [0, 113, 114 ,128, 129, 227, 242, 242, 257, 355, 356, 370, 371, 484]\n",
    "convol(spectrum)"
   ]
  },
  {
   "cell_type": "markdown",
   "metadata": {},
   "source": [
    "3"
   ]
  },
  {
   "cell_type": "code",
   "execution_count": 69,
   "metadata": {},
   "outputs": [],
   "source": [
    "def coinChange(target, coins, best = [float('inf'), []]):\n",
    "    if coins == []:\n",
    "        return best\n",
    "\n",
    "    coins.sort(reverse = True)\n",
    "    dup, i = target, 0\n",
    "    params = [0,[]]\n",
    "\n",
    "    while target!=0:\n",
    "        if target < coins[i]:\n",
    "            i+=1\n",
    "        else:\n",
    "            target-=coins[i]\n",
    "            params[0]+=1\n",
    "            params[1].append(coins[i])\n",
    "    \n",
    "    if params[0] < best[0]:\n",
    "        return coinChange(dup,coins[1:],best = params)\n",
    "    return coinChange(dup,coins[1:], best=best)"
   ]
  },
  {
   "cell_type": "code",
   "execution_count": 70,
   "metadata": {},
   "outputs": [
    {
     "name": "stdout",
     "output_type": "stream",
     "text": [
      "[2, [20, 20]]\n"
     ]
    }
   ],
   "source": [
    "coins = [1,5,10,20,25,50]\n",
    "target = 40\n",
    "print(coinChange(target, coins))"
   ]
  },
  {
   "cell_type": "markdown",
   "metadata": {},
   "source": [
    "4\n"
   ]
  },
  {
   "cell_type": "code",
   "execution_count": 72,
   "metadata": {},
   "outputs": [],
   "source": [
    "def numberOfCombinations(coins, target):\n",
    "    n = len(coins)\n",
    "    dp = [[0 for j in range(target + 1)] for i in range(n + 1)]\n",
    "    for i in range(n + 1):\n",
    "        for j in range(target + 1):\n",
    "            if i == 0:\n",
    "                dp[i][j] = 0\n",
    "            elif j == 0:\n",
    "                dp[i][j] = 1\n",
    "            else:\n",
    "                if j - coins[i - 1] >= 0:\n",
    "                    dp[i][j] = dp[i - 1][j] + dp[i][j - coins[i - 1]]\n",
    "                else:\n",
    "                    dp[i][j] = dp[i - 1][j]\n",
    "    return dp[n][target]"
   ]
  },
  {
   "cell_type": "code",
   "execution_count": 75,
   "metadata": {},
   "outputs": [
    {
     "name": "stdout",
     "output_type": "stream",
     "text": [
      "41\n"
     ]
    }
   ],
   "source": [
    "n = numberOfCombinations(coins,target)\n",
    "print(n)"
   ]
  }
 ],
 "metadata": {
  "kernelspec": {
   "display_name": "Python 3",
   "language": "python",
   "name": "python3"
  },
  "language_info": {
   "codemirror_mode": {
    "name": "ipython",
    "version": 3
   },
   "file_extension": ".py",
   "mimetype": "text/x-python",
   "name": "python",
   "nbconvert_exporter": "python",
   "pygments_lexer": "ipython3",
   "version": "3.11.2"
  }
 },
 "nbformat": 4,
 "nbformat_minor": 2
}
