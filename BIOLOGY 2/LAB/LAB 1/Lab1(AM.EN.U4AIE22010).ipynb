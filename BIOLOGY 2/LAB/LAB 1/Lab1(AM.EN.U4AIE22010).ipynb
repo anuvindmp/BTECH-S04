{
  "cells": [
    {
      "cell_type": "markdown",
      "metadata": {
        "id": "KSIV36cE25cM"
      },
      "source": [
        "Anuvind M P\n",
        "\n",
        "AM.EN.U4AIE22010"
      ]
    },
    {
      "cell_type": "markdown",
      "metadata": {
        "id": "ITZ6cySM292L"
      },
      "source": [
        "1. Answer the following.\n",
        "a) Construct a Graph in Python for the given Structure (adjacency list). b) Print the graph using simple print statement. c) Print all vertices of the Graph using keys () function. d) Print all edges of the Graph."
      ]
    },
    {
      "cell_type": "code",
      "execution_count": null,
      "metadata": {
        "id": "2OlcjjLLTWEf"
      },
      "outputs": [],
      "source": [
        "#1a\n",
        "graph={\"A\":[\"B\",\"C\"], \"B\":[\"D\",\"E\"],\"C\":[\"D\"], \"D\":[\"A\",\"E\"],\"E\":[]}\n",
        "\n"
      ]
    },
    {
      "cell_type": "code",
      "execution_count": null,
      "metadata": {
        "colab": {
          "base_uri": "https://localhost:8080/"
        },
        "id": "UuYBFJ0-VGVA",
        "outputId": "991ff2a3-337e-4f07-b0ac-0a0289fe8eb9"
      },
      "outputs": [
        {
          "name": "stdout",
          "output_type": "stream",
          "text": [
            "{'A': ['B', 'C'], 'B': ['D', 'E'], 'C': ['D'], 'D': ['A', 'E'], 'E': []}\n"
          ]
        }
      ],
      "source": [
        "#1b\n",
        "print(graph)"
      ]
    },
    {
      "cell_type": "code",
      "execution_count": null,
      "metadata": {
        "colab": {
          "base_uri": "https://localhost:8080/"
        },
        "id": "FyvywqbKVOBR",
        "outputId": "cda44954-eae5-4bc2-a305-582b1c641c71"
      },
      "outputs": [
        {
          "name": "stdout",
          "output_type": "stream",
          "text": [
            "['A', 'B', 'C', 'D', 'E']\n"
          ]
        }
      ],
      "source": [
        "#1c\n",
        "print(list(graph.keys()))"
      ]
    },
    {
      "cell_type": "code",
      "execution_count": null,
      "metadata": {
        "colab": {
          "base_uri": "https://localhost:8080/"
        },
        "id": "ltlA3G6kVg4S",
        "outputId": "bd482108-0f8a-4810-b3c4-6119acc68458"
      },
      "outputs": [
        {
          "name": "stdout",
          "output_type": "stream",
          "text": [
            "[('A', 'B'), ('A', 'C'), ('B', 'D'), ('B', 'E'), ('C', 'D'), ('D', 'A'), ('D', 'E')]\n"
          ]
        }
      ],
      "source": [
        "#1d\n",
        "edges=[]\n",
        "for node in graph:\n",
        "  for neighbour in graph[node]:\n",
        "    edges.append((node,neighbour))\n",
        "print(edges)"
      ]
    },
    {
      "cell_type": "markdown",
      "metadata": {
        "id": "L_dSEC_g3FIG"
      },
      "source": [
        "2. Construct the above graph in question 1 by reading user input. Add each edge of the graph by\n",
        "reading the vertex pair one by one from the user. Print the vertices and edges of the graph."
      ]
    },
    {
      "cell_type": "code",
      "execution_count": null,
      "metadata": {
        "colab": {
          "base_uri": "https://localhost:8080/"
        },
        "id": "Vf6UZsN3W9DM",
        "outputId": "0161aba4-717b-4612-cb27-5676f1b5010d"
      },
      "outputs": [
        {
          "name": "stdout",
          "output_type": "stream",
          "text": [
            "A-->['B', 'C']\n",
            "B-->['D', 'E']\n",
            "C-->['D']\n",
            "D-->['A', 'E']\n",
            "E-->[]\n"
          ]
        }
      ],
      "source": [
        "#2\n",
        "graph=dict()\n",
        "def AddEdge(node1,node2):\n",
        " if node2 is not None:\n",
        "  if node1 not in graph:\n",
        "    graph[node1]=[]\n",
        "  if node2 not in graph:\n",
        "    graph[node2]=[]\n",
        "  graph[node1].append(node2)\n",
        "AddEdge('A','B')\n",
        "AddEdge('A','C')\n",
        "AddEdge('B','D')\n",
        "AddEdge('B','E')\n",
        "AddEdge('C','D')\n",
        "AddEdge('D','A')\n",
        "AddEdge('D','E')\n",
        "AddEdge('E',None)\n",
        "for key,val in graph.items():\n",
        "    print(f\"{key}-->{val}\")\n"
      ]
    },
    {
      "cell_type": "markdown",
      "metadata": {
        "id": "o5mq_Jq43mle"
      },
      "source": [
        "3.Construct the following graph in Python by reading user input: Read the full graph structure together. Print the vertices and edges of the graph."
      ]
    },
    {
      "cell_type": "code",
      "execution_count": null,
      "metadata": {
        "colab": {
          "base_uri": "https://localhost:8080/"
        },
        "id": "TAYktP1tZa9e",
        "outputId": "b934d3d2-e552-4e74-cc5d-b5a3ca7e2261"
      },
      "outputs": [
        {
          "name": "stdout",
          "output_type": "stream",
          "text": [
            "Enter number of nodes and edges of the graph: \n",
            "5 7\n",
            "Enter each pair of nodes having an edge between them:\n",
            "0 1 3\n",
            "0 3 8\n",
            "0 4 7\n",
            "1 2 1\n",
            "1 3 4\n",
            "2 3 2\n",
            "3 4 3\n"
          ]
        }
      ],
      "source": [
        "#3\n",
        "graph2=dict()\n",
        "def AddEdge(node1,node2,cost):\n",
        " if node2 is not None:\n",
        "  if node1 not in graph2:\n",
        "    graph2[node1]=[]\n",
        "  if node2 not in graph2:\n",
        "    graph2[node2]=[]\n",
        "  graph2[node1].append(node2)\n",
        "print(\"Enter number of nodes and edges of the graph: \")\n",
        "nodes,edges=input().split()\n",
        "print(\"Enter each pair of nodes having an edge between them:\")\n",
        "for x in range(int(edges)):\n",
        "  node1, node2,cost = input().split()\n",
        "  AddEdge(node1, node2,cost)"
      ]
    },
    {
      "cell_type": "code",
      "execution_count": null,
      "metadata": {
        "colab": {
          "base_uri": "https://localhost:8080/"
        },
        "id": "F9dj4274crma",
        "outputId": "17dbf8c6-d221-4a8d-8ff8-70c56678f9a6"
      },
      "outputs": [
        {
          "name": "stdout",
          "output_type": "stream",
          "text": [
            "0-->['1', '3', '4']\n",
            "1-->['2', '3']\n",
            "3-->['4']\n",
            "4-->[]\n",
            "2-->['3']\n"
          ]
        }
      ],
      "source": [
        "for key, val in graph2.items():\n",
        " print(f\"{key}-->{val}\")"
      ]
    },
    {
      "cell_type": "markdown",
      "metadata": {
        "id": "_HAjmwOb32n5"
      },
      "source": [
        "4. Construct the graph in question no. 3, by reading user input from a file. Print the vertices and\n",
        "edges of the graph"
      ]
    },
    {
      "cell_type": "code",
      "execution_count": null,
      "metadata": {
        "colab": {
          "base_uri": "https://localhost:8080/",
          "height": 73
        },
        "id": "EGdaLUR9eZeC",
        "outputId": "6546098b-ac8b-4ef8-8bb6-1155c7d15feb"
      },
      "outputs": [
        {
          "data": {
            "text/html": [
              "\n",
              "     <input type=\"file\" id=\"files-097750da-7758-49ca-8abe-2c07dd2e5df3\" name=\"files[]\" multiple disabled\n",
              "        style=\"border:none\" />\n",
              "     <output id=\"result-097750da-7758-49ca-8abe-2c07dd2e5df3\">\n",
              "      Upload widget is only available when the cell has been executed in the\n",
              "      current browser session. Please rerun this cell to enable.\n",
              "      </output>\n",
              "      <script>// Copyright 2017 Google LLC\n",
              "//\n",
              "// Licensed under the Apache License, Version 2.0 (the \"License\");\n",
              "// you may not use this file except in compliance with the License.\n",
              "// You may obtain a copy of the License at\n",
              "//\n",
              "//      http://www.apache.org/licenses/LICENSE-2.0\n",
              "//\n",
              "// Unless required by applicable law or agreed to in writing, software\n",
              "// distributed under the License is distributed on an \"AS IS\" BASIS,\n",
              "// WITHOUT WARRANTIES OR CONDITIONS OF ANY KIND, either express or implied.\n",
              "// See the License for the specific language governing permissions and\n",
              "// limitations under the License.\n",
              "\n",
              "/**\n",
              " * @fileoverview Helpers for google.colab Python module.\n",
              " */\n",
              "(function(scope) {\n",
              "function span(text, styleAttributes = {}) {\n",
              "  const element = document.createElement('span');\n",
              "  element.textContent = text;\n",
              "  for (const key of Object.keys(styleAttributes)) {\n",
              "    element.style[key] = styleAttributes[key];\n",
              "  }\n",
              "  return element;\n",
              "}\n",
              "\n",
              "// Max number of bytes which will be uploaded at a time.\n",
              "const MAX_PAYLOAD_SIZE = 100 * 1024;\n",
              "\n",
              "function _uploadFiles(inputId, outputId) {\n",
              "  const steps = uploadFilesStep(inputId, outputId);\n",
              "  const outputElement = document.getElementById(outputId);\n",
              "  // Cache steps on the outputElement to make it available for the next call\n",
              "  // to uploadFilesContinue from Python.\n",
              "  outputElement.steps = steps;\n",
              "\n",
              "  return _uploadFilesContinue(outputId);\n",
              "}\n",
              "\n",
              "// This is roughly an async generator (not supported in the browser yet),\n",
              "// where there are multiple asynchronous steps and the Python side is going\n",
              "// to poll for completion of each step.\n",
              "// This uses a Promise to block the python side on completion of each step,\n",
              "// then passes the result of the previous step as the input to the next step.\n",
              "function _uploadFilesContinue(outputId) {\n",
              "  const outputElement = document.getElementById(outputId);\n",
              "  const steps = outputElement.steps;\n",
              "\n",
              "  const next = steps.next(outputElement.lastPromiseValue);\n",
              "  return Promise.resolve(next.value.promise).then((value) => {\n",
              "    // Cache the last promise value to make it available to the next\n",
              "    // step of the generator.\n",
              "    outputElement.lastPromiseValue = value;\n",
              "    return next.value.response;\n",
              "  });\n",
              "}\n",
              "\n",
              "/**\n",
              " * Generator function which is called between each async step of the upload\n",
              " * process.\n",
              " * @param {string} inputId Element ID of the input file picker element.\n",
              " * @param {string} outputId Element ID of the output display.\n",
              " * @return {!Iterable<!Object>} Iterable of next steps.\n",
              " */\n",
              "function* uploadFilesStep(inputId, outputId) {\n",
              "  const inputElement = document.getElementById(inputId);\n",
              "  inputElement.disabled = false;\n",
              "\n",
              "  const outputElement = document.getElementById(outputId);\n",
              "  outputElement.innerHTML = '';\n",
              "\n",
              "  const pickedPromise = new Promise((resolve) => {\n",
              "    inputElement.addEventListener('change', (e) => {\n",
              "      resolve(e.target.files);\n",
              "    });\n",
              "  });\n",
              "\n",
              "  const cancel = document.createElement('button');\n",
              "  inputElement.parentElement.appendChild(cancel);\n",
              "  cancel.textContent = 'Cancel upload';\n",
              "  const cancelPromise = new Promise((resolve) => {\n",
              "    cancel.onclick = () => {\n",
              "      resolve(null);\n",
              "    };\n",
              "  });\n",
              "\n",
              "  // Wait for the user to pick the files.\n",
              "  const files = yield {\n",
              "    promise: Promise.race([pickedPromise, cancelPromise]),\n",
              "    response: {\n",
              "      action: 'starting',\n",
              "    }\n",
              "  };\n",
              "\n",
              "  cancel.remove();\n",
              "\n",
              "  // Disable the input element since further picks are not allowed.\n",
              "  inputElement.disabled = true;\n",
              "\n",
              "  if (!files) {\n",
              "    return {\n",
              "      response: {\n",
              "        action: 'complete',\n",
              "      }\n",
              "    };\n",
              "  }\n",
              "\n",
              "  for (const file of files) {\n",
              "    const li = document.createElement('li');\n",
              "    li.append(span(file.name, {fontWeight: 'bold'}));\n",
              "    li.append(span(\n",
              "        `(${file.type || 'n/a'}) - ${file.size} bytes, ` +\n",
              "        `last modified: ${\n",
              "            file.lastModifiedDate ? file.lastModifiedDate.toLocaleDateString() :\n",
              "                                    'n/a'} - `));\n",
              "    const percent = span('0% done');\n",
              "    li.appendChild(percent);\n",
              "\n",
              "    outputElement.appendChild(li);\n",
              "\n",
              "    const fileDataPromise = new Promise((resolve) => {\n",
              "      const reader = new FileReader();\n",
              "      reader.onload = (e) => {\n",
              "        resolve(e.target.result);\n",
              "      };\n",
              "      reader.readAsArrayBuffer(file);\n",
              "    });\n",
              "    // Wait for the data to be ready.\n",
              "    let fileData = yield {\n",
              "      promise: fileDataPromise,\n",
              "      response: {\n",
              "        action: 'continue',\n",
              "      }\n",
              "    };\n",
              "\n",
              "    // Use a chunked sending to avoid message size limits. See b/62115660.\n",
              "    let position = 0;\n",
              "    do {\n",
              "      const length = Math.min(fileData.byteLength - position, MAX_PAYLOAD_SIZE);\n",
              "      const chunk = new Uint8Array(fileData, position, length);\n",
              "      position += length;\n",
              "\n",
              "      const base64 = btoa(String.fromCharCode.apply(null, chunk));\n",
              "      yield {\n",
              "        response: {\n",
              "          action: 'append',\n",
              "          file: file.name,\n",
              "          data: base64,\n",
              "        },\n",
              "      };\n",
              "\n",
              "      let percentDone = fileData.byteLength === 0 ?\n",
              "          100 :\n",
              "          Math.round((position / fileData.byteLength) * 100);\n",
              "      percent.textContent = `${percentDone}% done`;\n",
              "\n",
              "    } while (position < fileData.byteLength);\n",
              "  }\n",
              "\n",
              "  // All done.\n",
              "  yield {\n",
              "    response: {\n",
              "      action: 'complete',\n",
              "    }\n",
              "  };\n",
              "}\n",
              "\n",
              "scope.google = scope.google || {};\n",
              "scope.google.colab = scope.google.colab || {};\n",
              "scope.google.colab._files = {\n",
              "  _uploadFiles,\n",
              "  _uploadFilesContinue,\n",
              "};\n",
              "})(self);\n",
              "</script> "
            ],
            "text/plain": [
              "<IPython.core.display.HTML object>"
            ]
          },
          "metadata": {},
          "output_type": "display_data"
        },
        {
          "name": "stdout",
          "output_type": "stream",
          "text": [
            "Saving graph.txt to graph.txt\n"
          ]
        }
      ],
      "source": [
        "#4\n",
        "from google.colab import files\n",
        "uploaded = files.upload()"
      ]
    },
    {
      "cell_type": "code",
      "execution_count": null,
      "metadata": {
        "colab": {
          "base_uri": "https://localhost:8080/"
        },
        "id": "PWcMqEY6fosm",
        "outputId": "5a36ba30-1526-4d22-a5ae-2bc2c8fdf470"
      },
      "outputs": [
        {
          "name": "stdout",
          "output_type": "stream",
          "text": [
            "0-->['1', '3', '4']\n",
            "1-->['2', '3']\n",
            "3-->['4']\n",
            "4-->[]\n",
            "2-->['3']\n"
          ]
        }
      ],
      "source": [
        "graph3=dict()\n",
        "def AddEdge(node1,node2,cost):\n",
        " if node2 is not None:\n",
        "  if node1 not in graph3:\n",
        "    graph3[node1]=[]\n",
        "  if node2 not in graph3:\n",
        "    graph3[node2]=[]\n",
        "  graph3[node1].append(node2)\n",
        "with open(\"graph.txt\") as f:\n",
        "  lines=f.readlines()\n",
        "nodes, edges=lines[0].split()\n",
        "for i in range(1, len(lines)):\n",
        " node1, node2,cost = lines[i].split()\n",
        " AddEdge(node1, node2,int(cost))\n",
        "for key, val in graph3.items():\n",
        " print(f\"{key}-->{val}\")"
      ]
    },
    {
      "cell_type": "markdown",
      "metadata": {
        "id": "1V7y4hDbXXBK"
      },
      "source": [
        "5.Visualize the above graph using ‘networkx’. The vertex labels and edge weights should be\n",
        "shown.The graph should be drawn as a directed graph. Save the output as a .png file in your\n",
        "computer."
      ]
    },
    {
      "cell_type": "code",
      "execution_count": 1,
      "metadata": {
        "colab": {
          "base_uri": "https://localhost:8080/",
          "height": 516
        },
        "id": "Zv4DXhbJXcY2",
        "outputId": "af80121d-3643-45a4-ab1d-0218b07fdf71"
      },
      "outputs": [
        {
          "data": {
            "image/png": "[encoded data removed]",
            "text/plain": [
              "<Figure size 640x480 with 1 Axes>"
            ]
          },
          "metadata": {},
          "output_type": "display_data"
        }
      ],
      "source": [
        "import networkx as nx\n",
        "import matplotlib.pyplot as plt\n",
        "graph_data = [\n",
        "    (0, 1, {'weight': 3}),\n",
        "    (0, 3, {'weight': 8}),\n",
        "    (0, 4, {'weight': 7}),\n",
        "    (1, 2, {'weight': 1}),\n",
        "    (1, 3, {'weight': 4}),\n",
        "    (2, 3, {'weight': 2}),\n",
        "    (3, 4, {'weight': 3})\n",
        "]\n",
        "\n",
        "G = nx.DiGraph()\n",
        "\n",
        "G.add_edges_from(graph_data)\n",
        "\n",
        "pos = nx.spring_layout(G)\n",
        "nx.draw(G, pos, with_labels=True, node_size=700, node_color='skyblue', font_size=12, font_weight='bold')\n",
        "edge_labels = {(i, j): w['weight'] for i, j, w in G.edges(data=True)}\n",
        "nx.draw_networkx_edge_labels(G, pos, edge_labels=edge_labels)\n",
        "\n",
        "plt.savefig(\"directed_graph.png\", format=\"PNG\")\n",
        "plt.show()\n"
      ]
    },
    {
      "cell_type": "markdown",
      "metadata": {
        "id": "QN_ppb6wcqn1"
      },
      "source": [
        "6.Generate a random DNA sequence of length 12 and create the K-mer composition of it where\n",
        "K = 3. Also reconstruct the DNA sequence back using the K-mers."
      ]
    },
    {
      "cell_type": "code",
      "execution_count": null,
      "metadata": {
        "colab": {
          "base_uri": "https://localhost:8080/"
        },
        "id": "l5voHZclctAd",
        "outputId": "edadce12-5639-4c5d-93e3-1e992ab655e7"
      },
      "outputs": [
        {
          "name": "stdout",
          "output_type": "stream",
          "text": [
            "Random DNA sequence: TGAGCGTGTCGG\n",
            "K-mer composition (K = 3): ['TGA', 'GAG', 'AGC', 'GCG', 'CGT', 'GTG', 'TGT', 'GTC', 'TCG', 'CGG']\n",
            "Reconstructed DNA sequence: TGAGCGTGTCGG\n"
          ]
        }
      ],
      "source": [
        "#dbt-normal or using overlap concept\n",
        "import random\n",
        "\n",
        "def generate_random_sequence(length):\n",
        "    bases = ['A', 'T', 'C', 'G']\n",
        "    return ''.join(random.choice(bases) for _ in range(length))\n",
        "\n",
        "def kmer_composition(sequence, k):\n",
        "    kmers = [sequence[i:i+k] for i in range(len(sequence) - k + 1)]\n",
        "    return kmers\n",
        "\n",
        "def reconstruct_sequence(kmers, k):\n",
        "    reconstructed_seq = kmers[0]\n",
        "    for kmer in kmers[1:]:\n",
        "        reconstructed_seq += kmer[-1]\n",
        "    return reconstructed_seq\n",
        "\n",
        "# Generate a random DNA sequence of length 12\n",
        "dna_sequence = generate_random_sequence(12)\n",
        "print(\"Random DNA sequence:\", dna_sequence)\n",
        "\n",
        "# Define K\n",
        "K = 3\n",
        "\n",
        "# Create K-mer composition of the DNA sequence\n",
        "kmers = kmer_composition(dna_sequence, K)\n",
        "print(\"K-mer composition (K = {}):\".format(K), kmers)\n",
        "\n",
        "# Reconstruct DNA sequence from K-mers\n",
        "reconstructed_sequence = reconstruct_sequence(kmers, K)\n",
        "print(\"Reconstructed DNA sequence:\", reconstructed_sequence)\n",
        "\n"
      ]
    },
    {
      "cell_type": "markdown",
      "metadata": {
        "id": "LRrFOYuaiEyg"
      },
      "source": [
        "7.Using the K-mer composition of question 6, draw an overlap graph and visualize it using\n",
        "‘networkx’. The vertices should show the K-mers and the edges should include the overlap\n",
        "length"
      ]
    },
    {
      "cell_type": "code",
      "execution_count": 2,
      "metadata": {
        "colab": {
          "base_uri": "https://localhost:8080/",
          "height": 539
        },
        "id": "mfkGtvIOGNqb",
        "outputId": "901c046f-356e-43e6-c61e-b0458afc8d5a"
      },
      "outputs": [
        {
          "data": {
            "image/png": "[encoded data removed]",
            "text/plain": [
              "<Figure size 640x480 with 1 Axes>"
            ]
          },
          "metadata": {},
          "output_type": "display_data"
        }
      ],
      "source": [
        "import networkx as nx\n",
        "import matplotlib.pyplot as plt\n",
        "\n",
        "def generate_random_dna(length):\n",
        "    import random\n",
        "    return ''.join(random.choice('ACGT') for _ in range(length))\n",
        "\n",
        "def get_kmers(sequence, k):\n",
        "    return [sequence[i:i+k] for i in range(len(sequence) - k + 1)]\n",
        "\n",
        "def create_overlap_graph(kmers, k):\n",
        "    G = nx.DiGraph()  # Directed graph to represent overlaps\n",
        "    for kmer in set(kmers):  # Add nodes for each unique k-mer\n",
        "        G.add_node(kmer)\n",
        "\n",
        "    # Add directed edges with labels that denote the overlap length\n",
        "    for i in range(len(kmers) - 1):\n",
        "        if kmers[i][1:] == kmers[i+1][:k-1]:\n",
        "            G.add_edge(kmers[i], kmers[i+1], weight=k-1)\n",
        "\n",
        "    return G\n",
        "\n",
        "def draw_graph(G):\n",
        "    pos = nx.circular_layout(G)     # Position nodes using the circular layout\n",
        "    nx.draw(G, pos, with_labels=True, node_color='skyblue', edge_color='k', node_size=2000, font_size=10, font_color='darkred', font_weight='bold', arrowstyle='-|>', arrowsize=10)\n",
        "    edge_labels = nx.get_edge_attributes(G, 'weight')\n",
        "    nx.draw_networkx_edge_labels(G, pos, edge_labels=edge_labels)\n",
        "    plt.title(\"Overlap Graph of K-mers\")\n",
        "    plt.show()\n",
        "\n",
        "dna_length = 12\n",
        "k = 3\n",
        "\n",
        "dna_sequence = generate_random_dna(dna_length)\n",
        "kmers = get_kmers(dna_sequence, k)\n",
        "\n",
        "overlap_graph = create_overlap_graph(kmers, k)\n",
        "draw_graph(overlap_graph)\n"
      ]
    }
  ],
  "metadata": {
    "colab": {
      "provenance": []
    },
    "kernelspec": {
      "display_name": "Python 3",
      "name": "python3"
    },
    "language_info": {
      "name": "python"
    }
  },
  "nbformat": 4,
  "nbformat_minor": 0
}
