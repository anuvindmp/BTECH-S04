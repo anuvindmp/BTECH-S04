{
  "cells": [
    {
      "cell_type": "markdown",
      "metadata": {
        "id": "hejs3G4X2YeN"
      },
      "source": [
        "**Anuvind M P** <br>\n",
        "**AM.EN.U4AIE22010**"
      ]
    },
    {
      "cell_type": "markdown",
      "metadata": {
        "id": "JVp45aVsCsK4"
      },
      "source": [
        "**QUESTION 1.**\n",
        "\n",
        "Cyclic Peptide Scoring Problem\n",
        "\n",
        "Compute the score of a cyclic peptide against a spectrum.\n",
        "\n",
        "Given: An amino acid string Peptide and a collection of integers Spectrum.\n",
        "\n",
        "Return: The score of Peptide against Spectrum, Score(Peptide, Spectrum)."
      ]
    },
    {
      "cell_type": "code",
      "execution_count": 1,
      "metadata": {
        "colab": {
          "base_uri": "https://localhost:8080/"
        },
        "id": "MMUE4pEsvED7",
        "outputId": "53dcb876-0d73-4b14-8880-429c14463202"
      },
      "outputs": [
        {
          "name": "stdout",
          "output_type": "stream",
          "text": [
            "11\n"
          ]
        }
      ],
      "source": [
        "def cyclic_spectrum(peptide):\n",
        "    amino_acid_mass = {\n",
        "        'G': 57, 'A': 71, 'S': 87, 'P': 97, 'V': 99, 'T': 101, 'C': 103, 'I': 113,\n",
        "        'L': 113, 'N': 114, 'D': 115, 'K': 128, 'Q': 128, 'E': 129, 'M': 131, 'H': 137,\n",
        "        'F': 147, 'R': 156, 'Y': 163, 'W': 186\n",
        "    }\n",
        "\n",
        "    prefix_mass = [0]\n",
        "    for i in range(len(peptide)):\n",
        "        prefix_mass.append(prefix_mass[i] + amino_acid_mass[peptide[i]])\n",
        "\n",
        "    peptide_mass = prefix_mass[-1]\n",
        "    cyclic_spectrum = [0]\n",
        "\n",
        "    for i in range(len(peptide)):\n",
        "        for j in range(i + 1, len(peptide) + 1):\n",
        "            cyclic_spectrum.append(prefix_mass[j] - prefix_mass[i])\n",
        "            if i > 0 and j < len(peptide):\n",
        "                cyclic_spectrum.append(peptide_mass - (prefix_mass[j] - prefix_mass[i]))\n",
        "\n",
        "    return sorted(cyclic_spectrum)\n",
        "\n",
        "def score(peptide, spectrum):\n",
        "    peptide_spectrum = cyclic_spectrum(peptide)\n",
        "    spectrum_counts = {mass: spectrum.count(mass) for mass in spectrum}\n",
        "    peptide_counts = {mass: peptide_spectrum.count(mass) for mass in peptide_spectrum}\n",
        "\n",
        "    score = 0\n",
        "    for mass in peptide_counts:\n",
        "        if mass in spectrum_counts:\n",
        "            score += min(peptide_counts[mass], spectrum_counts[mass])\n",
        "\n",
        "    return score\n",
        "\n",
        "peptide = \"NQEL\"\n",
        "spectrum = [0, 99, 113, 114, 128, 227, 257, 299, 355, 356, 370, 371, 484]\n",
        "\n",
        "print(score(peptide, spectrum))"
      ]
    },
    {
      "cell_type": "markdown",
      "metadata": {
        "id": "ULWNUCWnC4VN"
      },
      "source": [
        "**QUESTION 2.**\n",
        "\n",
        "Spectral Convolution Problem\n",
        "\n",
        "Compute the convolution of a spectrum.\n",
        "\n",
        "Given: A collection of integers Spectrum.\n",
        "\n",
        "Return: The highest m elements in the convolution of Spectrum in decreasing order of their multiplicities. If an element has multiplicity k, it should appear exactly k times."
      ]
    },
    {
      "cell_type": "code",
      "execution_count": 2,
      "metadata": {
        "colab": {
          "base_uri": "https://localhost:8080/"
        },
        "id": "mwEjoDzIvxN5",
        "outputId": "5c7aee6f-346e-4ead-fcdd-881206ec5621"
      },
      "outputs": [
        {
          "name": "stdout",
          "output_type": "stream",
          "text": [
            "   Value  Frequency\n",
            "0     15          8\n",
            "1    113          7\n",
            "2    114          7\n",
            "3    128          7\n"
          ]
        }
      ],
      "source": [
        "from collections import Counter\n",
        "import pandas as pd\n",
        "\n",
        "def spectral_convolution(spectrum):\n",
        "    convolution = []\n",
        "    for i in range(len(spectrum)):\n",
        "        for j in range(len(spectrum)):\n",
        "            if i != j:\n",
        "                diff = spectrum[j] - spectrum[i]\n",
        "                if diff > 0:\n",
        "                    convolution.append(diff)\n",
        "    return convolution\n",
        "\n",
        "def highest_m_elements(convolution, m):\n",
        "    counter = Counter(convolution)\n",
        "    most_common = counter.most_common()\n",
        "    most_common_sorted = sorted(most_common, key=lambda x: (-x[1], x[0]))  # Sort by frequency (descending), then by value (ascending)\n",
        "    return most_common_sorted[:m]\n",
        "\n",
        "spectrum = [0, 113, 114, 128, 129, 227, 242, 242, 257, 355, 356, 370, 371]\n",
        "m = 4\n",
        "\n",
        "# Compute Spectral Convolution\n",
        "convolution = spectral_convolution(spectrum)\n",
        "# Get the highest m elements\n",
        "result = highest_m_elements(convolution, m)\n",
        "\n",
        "df = pd.DataFrame(result, columns=['Value', 'Frequency'])\n",
        "print(df)"
      ]
    },
    {
      "cell_type": "markdown",
      "metadata": {
        "id": "7H-F2o_CDBq_"
      },
      "source": [
        "**QUESTION 3.**\n",
        "\n",
        "The Change Problem : Recursive Solution\n",
        "\n",
        "Find the minimum number of coins needed to make change.\n",
        "\n",
        "Given: An integer money and an array Coins of positive integers.\n",
        "\n",
        "Return: The minimum number of coins with denominations Coins that changes money"
      ]
    },
    {
      "cell_type": "code",
      "execution_count": 9,
      "metadata": {
        "colab": {
          "base_uri": "https://localhost:8080/"
        },
        "id": "vHMp1ZXmx3xW",
        "outputId": "9dd7490a-aeec-4fc3-bf51-88557b9a06a8"
      },
      "outputs": [
        {
          "name": "stdout",
          "output_type": "stream",
          "text": [
            "Unexpected exception formatting exception. Falling back to standard exception\n"
          ]
        },
        {
          "name": "stderr",
          "output_type": "stream",
          "text": [
            "Traceback (most recent call last):\n",
            "  File \"C:\\Users\\admin\\AppData\\Roaming\\Python\\Python311\\site-packages\\IPython\\core\\interactiveshell.py\", line 3550, in run_code\n",
            "    exec(code_obj, self.user_global_ns, self.user_ns)\n",
            "  File \"C:\\Users\\admin\\AppData\\Local\\Temp\\ipykernel_6876\\603675617.py\", line 22, in <module>\n",
            "    min_coins_needed, coins_used = min_coins(money, coins)\n",
            "                                   ^^^^^^^^^^^^^^^^^^^^^^^\n",
            "  File \"C:\\Users\\admin\\AppData\\Local\\Temp\\ipykernel_6876\\603675617.py\", line 10, in min_coins\n",
            "    num_coins, coins_used = min_coins(money - coin, coins)\n",
            "                            ^^^^^^^^^^^^^^^^^^^^^^^^^^^^^^\n",
            "  File \"C:\\Users\\admin\\AppData\\Local\\Temp\\ipykernel_6876\\603675617.py\", line 10, in min_coins\n",
            "    num_coins, coins_used = min_coins(money - coin, coins)\n",
            "                            ^^^^^^^^^^^^^^^^^^^^^^^^^^^^^^\n",
            "  File \"C:\\Users\\admin\\AppData\\Local\\Temp\\ipykernel_6876\\603675617.py\", line 10, in min_coins\n",
            "    num_coins, coins_used = min_coins(money - coin, coins)\n",
            "                            ^^^^^^^^^^^^^^^^^^^^^^^^^^^^^^\n",
            "  [Previous line repeated 69 more times]\n",
            "  File \"C:\\Users\\admin\\AppData\\Local\\Temp\\ipykernel_6876\\603675617.py\", line -1, in min_coins\n",
            "KeyboardInterrupt\n",
            "\n",
            "During handling of the above exception, another exception occurred:\n",
            "\n",
            "Traceback (most recent call last):\n",
            "  File \"C:\\Users\\admin\\AppData\\Roaming\\Python\\Python311\\site-packages\\IPython\\core\\interactiveshell.py\", line 2144, in showtraceback\n",
            "    stb = self.InteractiveTB.structured_traceback(\n",
            "          ^^^^^^^^^^^^^^^^^^^^^^^^^^^^^^^^^^^^^^^^\n",
            "  File \"C:\\Users\\admin\\AppData\\Roaming\\Python\\Python311\\site-packages\\IPython\\core\\ultratb.py\", line 1435, in structured_traceback\n",
            "    return FormattedTB.structured_traceback(\n",
            "           ^^^^^^^^^^^^^^^^^^^^^^^^^^^^^^^^^\n",
            "  File \"C:\\Users\\admin\\AppData\\Roaming\\Python\\Python311\\site-packages\\IPython\\core\\ultratb.py\", line 1326, in structured_traceback\n",
            "    return VerboseTB.structured_traceback(\n",
            "           ^^^^^^^^^^^^^^^^^^^^^^^^^^^^^^^\n",
            "  File \"C:\\Users\\admin\\AppData\\Roaming\\Python\\Python311\\site-packages\\IPython\\core\\ultratb.py\", line 1173, in structured_traceback\n",
            "    formatted_exception = self.format_exception_as_a_whole(etype, evalue, etb, number_of_lines_of_context,\n",
            "                          ^^^^^^^^^^^^^^^^^^^^^^^^^^^^^^^^^^^^^^^^^^^^^^^^^^^^^^^^^^^^^^^^^^^^^^^^^^^^^^^^\n",
            "  File \"C:\\Users\\admin\\AppData\\Roaming\\Python\\Python311\\site-packages\\IPython\\core\\ultratb.py\", line 1088, in format_exception_as_a_whole\n",
            "    frames.append(self.format_record(record))\n",
            "                  ^^^^^^^^^^^^^^^^^^^^^^^^^^\n",
            "  File \"C:\\Users\\admin\\AppData\\Roaming\\Python\\Python311\\site-packages\\IPython\\core\\ultratb.py\", line 970, in format_record\n",
            "    frame_info.lines, Colors, self.has_colors, lvals\n",
            "    ^^^^^^^^^^^^^^^^\n",
            "  File \"C:\\Users\\admin\\AppData\\Roaming\\Python\\Python311\\site-packages\\IPython\\core\\ultratb.py\", line 792, in lines\n",
            "    return self._sd.lines\n",
            "           ^^^^^^^^^^^^^^\n",
            "  File \"C:\\Users\\admin\\AppData\\Roaming\\Python\\Python311\\site-packages\\stack_data\\utils.py\", line 145, in cached_property_wrapper\n",
            "    value = obj.__dict__[self.func.__name__] = self.func(obj)\n",
            "                                               ^^^^^^^^^^^^^^\n",
            "  File \"C:\\Users\\admin\\AppData\\Roaming\\Python\\Python311\\site-packages\\stack_data\\core.py\", line 734, in lines\n",
            "    pieces = self.included_pieces\n",
            "             ^^^^^^^^^^^^^^^^^^^^\n",
            "  File \"C:\\Users\\admin\\AppData\\Roaming\\Python\\Python311\\site-packages\\stack_data\\utils.py\", line 145, in cached_property_wrapper\n",
            "    value = obj.__dict__[self.func.__name__] = self.func(obj)\n",
            "                                               ^^^^^^^^^^^^^^\n",
            "  File \"C:\\Users\\admin\\AppData\\Roaming\\Python\\Python311\\site-packages\\stack_data\\core.py\", line 681, in included_pieces\n",
            "    pos = scope_pieces.index(self.executing_piece)\n",
            "                             ^^^^^^^^^^^^^^^^^^^^\n",
            "  File \"C:\\Users\\admin\\AppData\\Roaming\\Python\\Python311\\site-packages\\stack_data\\utils.py\", line 145, in cached_property_wrapper\n",
            "    value = obj.__dict__[self.func.__name__] = self.func(obj)\n",
            "                                               ^^^^^^^^^^^^^^\n",
            "  File \"C:\\Users\\admin\\AppData\\Roaming\\Python\\Python311\\site-packages\\stack_data\\core.py\", line 660, in executing_piece\n",
            "    return only(\n",
            "           ^^^^^\n",
            "  File \"C:\\Users\\admin\\AppData\\Roaming\\Python\\Python311\\site-packages\\executing\\executing.py\", line 116, in only\n",
            "    raise NotOneValueFound('Expected one value, found 0')\n",
            "executing.executing.NotOneValueFound: Expected one value, found 0\n"
          ]
        }
      ],
      "source": [
        "def min_coins(money, coins):\n",
        "    if money == 0:\n",
        "        return 0, []\n",
        "\n",
        "    min_coins_needed = float('inf')\n",
        "    best_coins = []\n",
        "\n",
        "    for coin in coins:\n",
        "        if money >= coin:\n",
        "            num_coins, coins_used = min_coins(money - coin, coins)\n",
        "            num_coins += 1\n",
        "\n",
        "            if num_coins < min_coins_needed:\n",
        "                min_coins_needed = num_coins\n",
        "                best_coins = coins_used + [coin]\n",
        "\n",
        "    return min_coins_needed, best_coins\n",
        "\n",
        "money = 100\n",
        "coins = [1, 5, 10, 20, 25, 50]\n",
        "\n",
        "min_coins_needed, coins_used = min_coins(money, coins)\n",
        "print(min_coins_needed)\n",
        "print(coins_used)"
      ]
    },
    {
      "cell_type": "markdown",
      "metadata": {
        "id": "2nfcWKqEDJlq"
      },
      "source": [
        "**QUESTION 4.**\n",
        "\n",
        "The Change Problem : Dynamic Programming Solution\n",
        "\n",
        "Find the minimum number of coins needed to make change.\n",
        "\n",
        "Given: An integer money and an array Coins of positive integers.\n",
        "\n",
        "Return: The minimum number of coins with denominations Coins that changes money."
      ]
    },
    {
      "cell_type": "code",
      "execution_count": 4,
      "metadata": {
        "colab": {
          "base_uri": "https://localhost:8080/"
        },
        "id": "rx_MI0UtymQq",
        "outputId": "aad804c6-f9b5-435b-9e28-965161aca510"
      },
      "outputs": [
        {
          "name": "stdout",
          "output_type": "stream",
          "text": [
            "2\n",
            "20, 20\n"
          ]
        }
      ],
      "source": [
        "def min_coins_dp(money, Coins):\n",
        "    dp = [float('inf')] * (money + 1)\n",
        "    dp[0] = 0  # Base case: 0 coins needed to make change for 0 money\n",
        "\n",
        "    coins_used = [[] for _ in range(money + 1)]\n",
        "\n",
        "    for i in range(1, money + 1):\n",
        "        for coin in Coins:\n",
        "            if i >= coin and dp[i - coin] + 1 < dp[i]:\n",
        "                dp[i] = dp[i - coin] + 1\n",
        "                coins_used[i] = coins_used[i - coin] + [coin]\n",
        "\n",
        "    # Collecting the coins used for money\n",
        "    used_coins = coins_used[money]\n",
        "\n",
        "    return dp[money], used_coins\n",
        "\n",
        "money = 40\n",
        "Coins = [1, 5, 10, 20, 25, 50]\n",
        "min_coins, coins_used = min_coins_dp(money, Coins)\n",
        "print(min_coins)\n",
        "print(', '.join(map(str, coins_used)))"
      ]
    }
  ],
  "metadata": {
    "colab": {
      "provenance": []
    },
    "kernelspec": {
      "display_name": "Python 3",
      "name": "python3"
    },
    "language_info": {
      "codemirror_mode": {
        "name": "ipython",
        "version": 3
      },
      "file_extension": ".py",
      "mimetype": "text/x-python",
      "name": "python",
      "nbconvert_exporter": "python",
      "pygments_lexer": "ipython3",
      "version": "3.11.2"
    }
  },
  "nbformat": 4,
  "nbformat_minor": 0
}
