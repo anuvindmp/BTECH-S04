{
  "cells": [
    {
      "cell_type": "markdown",
      "metadata": {
        "id": "hejs3G4X2YeN"
      },
      "source": [
        "**Anuvind M P** <br>\n",
        "**AM.EN.U4AIE22010**"
      ]
    },
    {
      "cell_type": "markdown",
      "metadata": {
        "id": "JVp45aVsCsK4"
      },
      "source": [
        "**QUESTION 1.**\n",
        "\n",
        "Cyclic Peptide Scoring Problem\n",
        "\n",
        "Compute the score of a cyclic peptide against a spectrum.\n",
        "\n",
        "Given: An amino acid string Peptide and a collection of integers Spectrum.\n",
        "\n",
        "Return: The score of Peptide against Spectrum, Score(Peptide, Spectrum)."
      ]
    },
    {
      "cell_type": "code",
      "execution_count": 1,
      "metadata": {
        "colab": {
          "base_uri": "https://localhost:8080/"
        },
        "id": "MMUE4pEsvED7",
        "outputId": "53dcb876-0d73-4b14-8880-429c14463202"
      },
      "outputs": [
        {
          "name": "stdout",
          "output_type": "stream",
          "text": [
            "11\n"
          ]
        }
      ],
      "source": [
        "def cyclic_spectrum(peptide):\n",
        "    amino_acid_mass = {\n",
        "        'G': 57, 'A': 71, 'S': 87, 'P': 97, 'V': 99, 'T': 101, 'C': 103, 'I': 113,\n",
        "        'L': 113, 'N': 114, 'D': 115, 'K': 128, 'Q': 128, 'E': 129, 'M': 131, 'H': 137,\n",
        "        'F': 147, 'R': 156, 'Y': 163, 'W': 186\n",
        "    }\n",
        "\n",
        "    prefix_mass = [0]\n",
        "    for i in range(len(peptide)):\n",
        "        prefix_mass.append(prefix_mass[i] + amino_acid_mass[peptide[i]])\n",
        "\n",
        "    peptide_mass = prefix_mass[-1]\n",
        "    cyclic_spectrum = [0]\n",
        "\n",
        "    for i in range(len(peptide)):\n",
        "        for j in range(i + 1, len(peptide) + 1):\n",
        "            cyclic_spectrum.append(prefix_mass[j] - prefix_mass[i])\n",
        "            if i > 0 and j < len(peptide):\n",
        "                cyclic_spectrum.append(peptide_mass - (prefix_mass[j] - prefix_mass[i]))\n",
        "\n",
        "    return sorted(cyclic_spectrum)\n",
        "\n",
        "def score(peptide, spectrum):\n",
        "    peptide_spectrum = cyclic_spectrum(peptide)\n",
        "    spectrum_counts = {mass: spectrum.count(mass) for mass in spectrum}\n",
        "    peptide_counts = {mass: peptide_spectrum.count(mass) for mass in peptide_spectrum}\n",
        "\n",
        "    score = 0\n",
        "    for mass in peptide_counts:\n",
        "        if mass in spectrum_counts:\n",
        "            score += min(peptide_counts[mass], spectrum_counts[mass])\n",
        "\n",
        "    return score\n",
        "\n",
        "peptide = \"NQEL\"\n",
        "spectrum = [0, 99, 113, 114, 128, 227, 257, 299, 355, 356, 370, 371, 484]\n",
        "\n",
        "print(score(peptide, spectrum))"
      ]
    },
    {
      "cell_type": "markdown",
      "metadata": {
        "id": "ULWNUCWnC4VN"
      },
      "source": [
        "**QUESTION 2.**\n",
        "\n",
        "Spectral Convolution Problem\n",
        "\n",
        "Compute the convolution of a spectrum.\n",
        "\n",
        "Given: A collection of integers Spectrum.\n",
        "\n",
        "Return: The highest m elements in the convolution of Spectrum in decreasing order of their multiplicities. If an element has multiplicity k, it should appear exactly k times."
      ]
    },
    {
      "cell_type": "code",
      "execution_count": 2,
      "metadata": {
        "colab": {
          "base_uri": "https://localhost:8080/"
        },
        "id": "mwEjoDzIvxN5",
        "outputId": "5c7aee6f-346e-4ead-fcdd-881206ec5621"
      },
      "outputs": [
        {
          "name": "stdout",
          "output_type": "stream",
          "text": [
            "   Value  Frequency\n",
            "0     15          8\n",
            "1    113          7\n",
            "2    114          7\n",
            "3    128          7\n"
          ]
        }
      ],
      "source": [
        "from collections import Counter\n",
        "import pandas as pd\n",
        "\n",
        "def spectral_convolution(spectrum):\n",
        "    convolution = []\n",
        "    for i in range(len(spectrum)):\n",
        "        for j in range(len(spectrum)):\n",
        "            if i != j:\n",
        "                diff = spectrum[j] - spectrum[i]\n",
        "                if diff > 0:\n",
        "                    convolution.append(diff)\n",
        "    return convolution\n",
        "\n",
        "def highest_m_elements(convolution, m):\n",
        "    counter = Counter(convolution)\n",
        "    most_common = counter.most_common()\n",
        "    most_common_sorted = sorted(most_common, key=lambda x: (-x[1], x[0]))  # Sort by frequency (descending), then by value (ascending)\n",
        "    return most_common_sorted[:m]\n",
        "\n",
        "spectrum = [0, 113, 114, 128, 129, 227, 242, 242, 257, 355, 356, 370, 371]\n",
        "m = 4\n",
        "\n",
        "# Compute Spectral Convolution\n",
        "convolution = spectral_convolution(spectrum)\n",
        "# Get the highest m elements\n",
        "result = highest_m_elements(convolution, m)\n",
        "\n",
        "df = pd.DataFrame(result, columns=['Value', 'Frequency'])\n",
        "print(df)"
      ]
    },
    {
      "cell_type": "markdown",
      "metadata": {
        "id": "7H-F2o_CDBq_"
      },
      "source": [
        "**QUESTION 3.**\n",
        "\n",
        "The Change Problem : Recursive Solution\n",
        "\n",
        "Find the minimum number of coins needed to make change.\n",
        "\n",
        "Given: An integer money and an array Coins of positive integers.\n",
        "\n",
        "Return: The minimum number of coins with denominations Coins that changes money"
      ]
    },
    {
      "cell_type": "code",
      "execution_count": 3,
      "metadata": {
        "colab": {
          "base_uri": "https://localhost:8080/"
        },
        "id": "vHMp1ZXmx3xW",
        "outputId": "9dd7490a-aeec-4fc3-bf51-88557b9a06a8"
      },
      "outputs": [
        {
          "name": "stdout",
          "output_type": "stream",
          "text": [
            "2\n",
            "[20, 20]\n"
          ]
        }
      ],
      "source": [
        "def min_coins(money, coins):\n",
        "    if money == 0:\n",
        "        return 0, []\n",
        "\n",
        "    min_coins_needed = float('inf')\n",
        "    best_coins = []\n",
        "\n",
        "    for coin in coins:\n",
        "        if money >= coin:\n",
        "            num_coins, coins_used = min_coins(money - coin, coins)\n",
        "            num_coins += 1\n",
        "\n",
        "            if num_coins < min_coins_needed:\n",
        "                min_coins_needed = num_coins\n",
        "                best_coins = coins_used + [coin]\n",
        "\n",
        "    return min_coins_needed, best_coins\n",
        "\n",
        "money = 40\n",
        "coins = [1, 5, 10, 20, 25, 50]\n",
        "\n",
        "min_coins_needed, coins_used = min_coins(money, coins)\n",
        "print(min_coins_needed)\n",
        "print(coins_used)"
      ]
    },
    {
      "cell_type": "markdown",
      "metadata": {
        "id": "2nfcWKqEDJlq"
      },
      "source": [
        "**QUESTION 4.**\n",
        "\n",
        "The Change Problem : Dynamic Programming Solution\n",
        "\n",
        "Find the minimum number of coins needed to make change.\n",
        "\n",
        "Given: An integer money and an array Coins of positive integers.\n",
        "\n",
        "Return: The minimum number of coins with denominations Coins that changes money."
      ]
    },
    {
      "cell_type": "code",
      "execution_count": 4,
      "metadata": {
        "colab": {
          "base_uri": "https://localhost:8080/"
        },
        "id": "rx_MI0UtymQq",
        "outputId": "aad804c6-f9b5-435b-9e28-965161aca510"
      },
      "outputs": [
        {
          "name": "stdout",
          "output_type": "stream",
          "text": [
            "2\n",
            "20, 20\n"
          ]
        }
      ],
      "source": [
        "def min_coins_dp(money, Coins):\n",
        "    dp = [float('inf')] * (money + 1)\n",
        "    dp[0] = 0  # Base case: 0 coins needed to make change for 0 money\n",
        "\n",
        "    coins_used = [[] for _ in range(money + 1)]\n",
        "\n",
        "    for i in range(1, money + 1):\n",
        "        for coin in Coins:\n",
        "            if i >= coin and dp[i - coin] + 1 < dp[i]:\n",
        "                dp[i] = dp[i - coin] + 1\n",
        "                coins_used[i] = coins_used[i - coin] + [coin]\n",
        "\n",
        "    # Collecting the coins used for money\n",
        "    used_coins = coins_used[money]\n",
        "\n",
        "    return dp[money], used_coins\n",
        "\n",
        "money = 40\n",
        "Coins = [1, 5, 10, 20, 25, 50]\n",
        "min_coins, coins_used = min_coins_dp(money, Coins)\n",
        "print(min_coins)\n",
        "print(', '.join(map(str, coins_used)))"
      ]
    }
  ],
  "metadata": {
    "colab": {
      "provenance": []
    },
    "kernelspec": {
      "display_name": "Python 3",
      "name": "python3"
    },
    "language_info": {
      "name": "python"
    }
  },
  "nbformat": 4,
  "nbformat_minor": 0
}
