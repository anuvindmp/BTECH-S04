{
  "cells": [
    {
      "cell_type": "markdown",
      "metadata": {
        "id": "rl6LGwKtq_UN"
      },
      "source": [
        "Thazhai Mugunthan G <br>\n",
        "AM.EN.U4AIE22051\n"
      ]
    },
    {
      "cell_type": "markdown",
      "metadata": {},
      "source": [
        "1"
      ]
    },
    {
      "cell_type": "code",
      "execution_count": null,
      "metadata": {
        "colab": {
          "base_uri": "https://localhost:8080/"
        },
        "id": "hWh47D2AAJG6",
        "outputId": "98808121-bd4e-4ead-9835-a831b892861e"
      },
      "outputs": [
        {
          "name": "stdout",
          "output_type": "stream",
          "text": [
            "['ATGGCC', 'GGCCAT', 'GGCCAT', 'GGCCAT', 'ATGGCC', 'ATGGCC', 'ATGGCC']\n"
          ]
        }
      ],
      "source": [
        "#1\n",
        "codon_table = {\n",
        "    'UUU': 'F', 'UUC': 'F', 'UUA': 'L', 'UUG': 'L',\n",
        "    'UCU': 'S', 'UCC': 'S', 'UCA': 'S', 'UCG': 'S',\n",
        "    'UAU': 'Y', 'UAC': 'Y', 'UAA': '*', 'UAG': '*',\n",
        "    'UGU': 'C', 'UGC': 'C', 'UGA': '*', 'UGG': 'W',\n",
        "    'CUU': 'L', 'CUC': 'L', 'CUA': 'L', 'CUG': 'L',\n",
        "    'CCU': 'P', 'CCC': 'P', 'CCA': 'P', 'CCG': 'P',\n",
        "    'CAU': 'H', 'CAC': 'H', 'CAA': 'Q', 'CAG': 'Q',\n",
        "    'CGU': 'R', 'CGC': 'R', 'CGA': 'R', 'CGG': 'R',\n",
        "    'AUU': 'I', 'AUC': 'I', 'AUA': 'I', 'AUG': 'M',\n",
        "    'ACU': 'T', 'ACC': 'T', 'ACA': 'T', 'ACG': 'T',\n",
        "    'AAU': 'N', 'AAC': 'N', 'AAA': 'K', 'AAG': 'K',\n",
        "    'AGU': 'S', 'AGC': 'S', 'AGA': 'R', 'AGG': 'R',\n",
        "    'GUU': 'V', 'GUC': 'V', 'GUA': 'V', 'GUG': 'V',\n",
        "    'GCU': 'A', 'GCC': 'A', 'GCA': 'A', 'GCG': 'A',\n",
        "    'GAU': 'D', 'GAC': 'D', 'GAA': 'E', 'GAG': 'E',\n",
        "    'GGU': 'G', 'GGC': 'G', 'GGA': 'G', 'GGG': 'G'\n",
        "}\n",
        "\n",
        "def dna_to_rna(dna):\n",
        "    return dna.replace('T', 'U')\n",
        "\n",
        "def reverse_complement(dna):\n",
        "    complement = {'A': 'T', 'T': 'A', 'C': 'G', 'G': 'C'}\n",
        "    return ''.join(complement[base] for base in reversed(dna))\n",
        "\n",
        "def translate_rna(rna):\n",
        "    return ''.join(codon_table[rna[i:i+3]] for i in range(0, len(rna), 3) if rna[i:i+3] in codon_table)\n",
        "\n",
        "# Function to find all substrings encoding a given peptide\n",
        "def find_peptide_encoding_substrings(dna, peptide):\n",
        "    peptide_length = len(peptide) * 3\n",
        "    substrings = []\n",
        "    for i in range(len(dna) - peptide_length + 1):\n",
        "        for frame in range(3):\n",
        "            if i + frame + peptide_length <= len(dna):\n",
        "                rna = dna_to_rna(dna[i+frame:i+frame+peptide_length])\n",
        "                if translate_rna(rna) == peptide:\n",
        "                    substrings.append(dna[i+frame:i+frame+peptide_length])\n",
        "\n",
        "                reverse_rna = dna_to_rna(reverse_complement(dna[i+frame:i+frame+peptide_length]))\n",
        "                if translate_rna(reverse_rna) == peptide:\n",
        "                    substrings.append(dna[i+frame:i+frame+peptide_length])\n",
        "\n",
        "    return substrings\n",
        "\n",
        "dna = \"ATGGCCATGGCCCCCAGAACTGAGATCAATAGTACCCGTATTAACGGGTGA\"\n",
        "peptide = \"MA\"\n",
        "result = find_peptide_encoding_substrings(dna, peptide)\n",
        "print(result)"
      ]
    },
    {
      "cell_type": "markdown",
      "metadata": {},
      "source": [
        "2"
      ]
    },
    {
      "cell_type": "code",
      "execution_count": null,
      "metadata": {
        "colab": {
          "base_uri": "https://localhost:8080/"
        },
        "id": "yKcoYloHARHA",
        "outputId": "5054e9f7-3749-4fab-e415-e03e71b73578"
      },
      "outputs": [
        {
          "name": "stdout",
          "output_type": "stream",
          "text": [
            "[0, 113, 114, 128, 129, 227, 242, 242, 257, 355, 356, 370, 371, 484]\n"
          ]
        }
      ],
      "source": [
        "#2\n",
        "amino_acid_mass = {\n",
        "    'G': 57, 'A': 71, 'S': 87, 'P': 97, 'V': 99, 'T': 101,\n",
        "    'C': 103, 'I': 113, 'L': 113, 'N': 114, 'D': 115, 'K': 128,\n",
        "    'Q': 128, 'E': 129, 'M': 131, 'H': 137, 'F': 147, 'R': 156,\n",
        "    'Y': 163, 'W': 186\n",
        "}\n",
        "\n",
        "# Function to generate the theoretical spectrum of a cyclic peptide\n",
        "def cyclic_spectrum(peptide):\n",
        "    n = len(peptide)\n",
        "    prefix_mass = [0] * (n + 1)\n",
        "\n",
        "    # Computing the prefix masses\n",
        "    for i in range(1, n + 1):\n",
        "        prefix_mass[i] = prefix_mass[i - 1] + amino_acid_mass[peptide[i - 1]]\n",
        "\n",
        "    peptide_mass = prefix_mass[n]\n",
        "    cyclic_spectrum = [0]\n",
        "\n",
        "    # Generation of all subpeptides and their masses\n",
        "    for length in range(1, n):\n",
        "        for start in range(n):\n",
        "            if start + length <= n:\n",
        "                subpeptide_mass = prefix_mass[start + length] - prefix_mass[start]\n",
        "                cyclic_spectrum.append(subpeptide_mass)\n",
        "            else:\n",
        "                subpeptide_mass = peptide_mass - (prefix_mass[start] - prefix_mass[start + length - n])\n",
        "                cyclic_spectrum.append(subpeptide_mass)\n",
        "\n",
        "    cyclic_spectrum.append(peptide_mass)\n",
        "    return sorted(cyclic_spectrum)\n",
        "\n",
        "peptide = \"LEQN\"\n",
        "result = cyclic_spectrum(peptide)\n",
        "print(result)\n"
      ]
    },
    {
      "cell_type": "markdown",
      "metadata": {},
      "source": [
        "3"
      ]
    },
    {
      "cell_type": "code",
      "execution_count": 1,
      "metadata": {
        "colab": {
          "base_uri": "https://localhost:8080/"
        },
        "id": "tMR0O9gsDsRJ",
        "outputId": "e1b76774-3a5d-4a6a-bd82-5cd33c5811c9"
      },
      "outputs": [
        {
          "name": "stdout",
          "output_type": "stream",
          "text": [
            "['IKW', 'IQW', 'IWK', 'IWQ', 'LKW', 'LQW', 'LWK', 'LWQ', 'KIW', 'KLW', 'KWI', 'KWL', 'QIW', 'QLW', 'QWI', 'QWL', 'WIK', 'WIQ', 'WLK', 'WLQ', 'WKI', 'WKL', 'WQI', 'WQL']\n"
          ]
        }
      ],
      "source": [
        "#3\n",
        "def mass_table():\n",
        "    \"\"\"\n",
        "    Returns a dictionary mapping each amino acid to its respective mass.\n",
        "    \"\"\"\n",
        "    return {\n",
        "        'G': 57, 'A': 71, 'S': 87, 'P': 97, 'V': 99, 'T': 101, 'C': 103, 'I': 113, 'L': 113,\n",
        "        'N': 114, 'D': 115, 'K': 128, 'Q': 128, 'E': 129, 'M': 131, 'H': 137, 'F': 147, 'R': 156, 'Y': 163, 'W': 186\n",
        "    }\n",
        "\n",
        "def peptide_mass(peptide):\n",
        "    \"\"\"\n",
        "    Calculates the mass of a given peptide string.\n",
        "    \"\"\"\n",
        "    return sum(mass_table()[aa] for aa in peptide)\n",
        "\n",
        "def cyclospectrum(peptide):\n",
        "    \"\"\"\n",
        "    Generates the theoretical spectrum of a cyclic peptide.\n",
        "    \"\"\"\n",
        "    mass = [0]\n",
        "    extended_peptide = peptide + peptide  # to handle cyclic nature\n",
        "    peptide_len = len(peptide)\n",
        "\n",
        "    # Generate all subpeptides and their masses\n",
        "    for length in range(1, peptide_len):\n",
        "        for start in range(peptide_len):\n",
        "            subpeptide = extended_peptide[start:start+length]\n",
        "            mass.append(peptide_mass(subpeptide))\n",
        "\n",
        "    mass.append(peptide_mass(peptide))  # include the mass of the whole peptide\n",
        "    return sorted(mass)\n",
        "\n",
        "def expand_peptides(peptides, amino_acids):\n",
        "    \"\"\"\n",
        "    Expands a list of peptides by adding each amino acid to the end.\n",
        "    \"\"\"\n",
        "    expanded = []\n",
        "    for peptide in peptides:\n",
        "        for aa in amino_acids:\n",
        "            expanded.append(peptide + aa)\n",
        "    return expanded\n",
        "\n",
        "def is_consistent(peptide, spectrum):\n",
        "    \"\"\"\n",
        "    Check if the theoretical spectrum of a linear peptide is consistent with the given spectrum.\n",
        "    \"\"\"\n",
        "    peptide_spectrum = cyclospectrum(peptide)\n",
        "    for mass in peptide_spectrum:\n",
        "        if peptide_spectrum.count(mass) > spectrum.count(mass):\n",
        "            return False\n",
        "    return True\n",
        "\n",
        "def brute_force_cyclopeptide_sequencing(spectrum):\n",
        "    \"\"\"\n",
        "    Finds all cyclic peptides whose theoretical spectrum matches the given experimental spectrum.\n",
        "    \"\"\"\n",
        "    amino_acids = list(mass_table().keys())\n",
        "    peptides = ['']\n",
        "    final_peptides = []\n",
        "    spectrum = sorted(spectrum)\n",
        "    max_spectrum_mass = max(spectrum)\n",
        "\n",
        "    while peptides:\n",
        "        peptides = expand_peptides(peptides, amino_acids)\n",
        "        for peptide in peptides[:]:\n",
        "            peptide_mass_val = peptide_mass(peptide)\n",
        "            if peptide_mass_val == max_spectrum_mass:\n",
        "                if cyclospectrum(peptide) == spectrum:\n",
        "                    final_peptides.append(peptide)\n",
        "                peptides.remove(peptide)\n",
        "            elif peptide_mass_val > max_spectrum_mass or not is_consistent(peptide, spectrum):\n",
        "                peptides.remove(peptide)\n",
        "\n",
        "    return final_peptides\n",
        "\n",
        "# Example usage:\n",
        "experimental_spectrum = [0, 113, 128, 186, 241, 299, 314, 427]\n",
        "result = brute_force_cyclopeptide_sequencing(experimental_spectrum)\n",
        "print(result)\n"
      ]
    },
    {
      "cell_type": "markdown",
      "metadata": {},
      "source": [
        "4"
      ]
    },
    {
      "cell_type": "code",
      "execution_count": null,
      "metadata": {
        "colab": {
          "base_uri": "https://localhost:8080/"
        },
        "id": "f_g6AeyAE396",
        "outputId": "a9bd77c0-b573-4827-fd96-31d6fd99d191"
      },
      "outputs": [
        {
          "name": "stdout",
          "output_type": "stream",
          "text": [
            "['IKW', 'IQW', 'IWK', 'IWQ', 'LKW', 'LQW', 'LWK', 'LWQ', 'KIW', 'KLW', 'KWI', 'KWL', 'QIW', 'QLW', 'QWI', 'QWL', 'WIK', 'WIQ', 'WLK', 'WLQ', 'WKI', 'WKL', 'WQI', 'WQL']\n"
          ]
        }
      ],
      "source": [
        "#4\n",
        "from collections import Counter\n",
        "\n",
        "amino_acid_mass = {\n",
        "    'G': 57, 'A': 71, 'S': 87, 'P': 97, 'V': 99, 'T': 101,\n",
        "    'C': 103, 'I': 113, 'L': 113, 'N': 114, 'D': 115, 'K': 128,\n",
        "    'Q': 128, 'E': 129, 'M': 131, 'H': 137, 'F': 147, 'R': 156,\n",
        "    'Y': 163, 'W': 186\n",
        "}\n",
        "\n",
        "# Function to calculate the cyclic spectrum of a peptide\n",
        "def cyclic_spectrum(peptide):\n",
        "    n = len(peptide)\n",
        "    prefix_mass = [0] * (n + 1)\n",
        "\n",
        "    for i in range(1, n + 1):\n",
        "        prefix_mass[i] = prefix_mass[i - 1] + amino_acid_mass[peptide[i - 1]]\n",
        "\n",
        "    peptide_mass = prefix_mass[n]\n",
        "    cyclic_spectrum = [0]\n",
        "\n",
        "    for length in range(1, n):\n",
        "        for start in range(n):\n",
        "            if start + length <= n:\n",
        "                subpeptide_mass = prefix_mass[start + length] - prefix_mass[start]\n",
        "                cyclic_spectrum.append(subpeptide_mass)\n",
        "            else:\n",
        "                subpeptide_mass = peptide_mass - (prefix_mass[start] - prefix_mass[start + length - n])\n",
        "                cyclic_spectrum.append(subpeptide_mass)\n",
        "\n",
        "    cyclic_spectrum.append(peptide_mass)\n",
        "    return sorted(cyclic_spectrum)\n",
        "\n",
        "# Function to calculate the linear spectrum of a peptide\n",
        "def linear_spectrum(peptide):\n",
        "    n = len(peptide)\n",
        "    prefix_mass = [0] * (n + 1)\n",
        "\n",
        "    for i in range(1, n + 1):\n",
        "        prefix_mass[i] = prefix_mass[i - 1] + amino_acid_mass[peptide[i - 1]]\n",
        "\n",
        "    linear_spectrum = [0]\n",
        "\n",
        "    for length in range(1, n + 1):\n",
        "        for start in range(n - length + 1):\n",
        "            subpeptide_mass = prefix_mass[start + length] - prefix_mass[start]\n",
        "            linear_spectrum.append(subpeptide_mass)\n",
        "\n",
        "    return sorted(linear_spectrum)\n",
        "\n",
        "# Function to check if one spectrum is a consistent sub-spectrum of another\n",
        "def consistent_with_spectrum(peptide_spectrum, experimental_spectrum):\n",
        "    peptide_counter = Counter(peptide_spectrum)\n",
        "    experimental_counter = Counter(experimental_spectrum)\n",
        "\n",
        "    for mass in peptide_counter:\n",
        "        if peptide_counter[mass] > experimental_counter[mass]:\n",
        "            return False\n",
        "    return True\n",
        "\n",
        "# Branch and Bound algorithm to find cyclic peptides\n",
        "def find_cyclic_peptide(spectrum):\n",
        "    mass_list = list(amino_acid_mass.values())\n",
        "    peptides = [\"\"]\n",
        "    results = []\n",
        "\n",
        "    while peptides:\n",
        "        peptides = expand(peptides, mass_list)\n",
        "        for peptide in peptides[:]:\n",
        "            if sum(amino_acid_mass[aa] for aa in peptide) == spectrum[-1]:\n",
        "                if cyclic_spectrum(peptide) == sorted(spectrum):\n",
        "                    results.append(peptide)\n",
        "                peptides.remove(peptide)\n",
        "            elif not consistent_with_spectrum(linear_spectrum(peptide), spectrum):\n",
        "                peptides.remove(peptide)\n",
        "\n",
        "    return results\n",
        "\n",
        "# Function to expand peptides by adding each possible amino acid\n",
        "def expand(peptides, mass_list):\n",
        "    expanded_peptides = []\n",
        "    for peptide in peptides:\n",
        "        for aa, aa_mass in amino_acid_mass.items():\n",
        "            expanded_peptides.append(peptide + aa)\n",
        "    return expanded_peptides\n",
        "\n",
        "experimental_spectrum = [0, 113, 128, 186, 241, 299, 314, 427]\n",
        "results = find_cyclic_peptide(experimental_spectrum)\n",
        "print(results)\n"
      ]
    }
  ],
  "metadata": {
    "colab": {
      "provenance": []
    },
    "kernelspec": {
      "display_name": "Python 3",
      "name": "python3"
    },
    "language_info": {
      "name": "python"
    }
  },
  "nbformat": 4,
  "nbformat_minor": 0
}
