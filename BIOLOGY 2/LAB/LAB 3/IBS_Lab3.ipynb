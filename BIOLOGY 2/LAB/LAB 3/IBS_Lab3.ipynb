{
  "cells": [
    {
      "cell_type": "markdown",
      "metadata": {},
      "source": []
    },
    {
      "cell_type": "code",
      "execution_count": 6,
      "metadata": {
        "colab": {
          "base_uri": "https://localhost:8080/"
        },
        "id": "XQCwIvbK4rDb",
        "outputId": "b8cf9803-9dc1-4472-e323-8919df846afa"
      },
      "outputs": [
        {
          "name": "stdout",
          "output_type": "stream",
          "text": [
            "AGG -> GGG\n",
            "CAG -> AGG, AGG\n",
            "GAG -> AGG\n",
            "GGA -> GAG\n",
            "GGG -> GGG, GGA\n"
          ]
        }
      ],
      "source": [
        "kmers = [\n",
        "    \"GAGG\",\n",
        "    \"CAGG\",\n",
        "    \"GGGG\",\n",
        "    \"GGGA\",\n",
        "    \"CAGG\",\n",
        "    \"AGGG\",\n",
        "    \"GGAG\"\n",
        "]\n",
        "\n",
        "def DeBruijin(kmers):\n",
        "  graph = {}\n",
        "  for i in kmers:\n",
        "    if i[1:] not in graph:\n",
        "      graph[i[1:]] = []\n",
        "    if i[:-1] not in graph:\n",
        "      graph[i[:-1]] = [i[1:]]\n",
        "    else:\n",
        "      graph[i[:-1]].append(i[1:])\n",
        "  return graph\n",
        "\n",
        "graph = DeBruijin(kmers)\n",
        "\n",
        "for i in sorted(graph):\n",
        "  print(f\"{i} -> \" + str(graph[i])[1:-1].replace(\"'\", ''))"
      ]
    },
    {
      "cell_type": "code",
      "execution_count": 7,
      "metadata": {
        "colab": {
          "base_uri": "https://localhost:8080/",
          "height": 493
        },
        "id": "G2Gb4fv7-zOq",
        "outputId": "4955b869-1536-4466-a6ed-c812edeabcfb"
      },
      "outputs": [
        {
          "data": {
            "text/plain": [
              "{('AA', 'AA'): Text(0.22974537423932706, -0.7507579282259583, 'AAA'),\n",
              " ('AA', 'AB'): Text(0.1295656511484018, -0.6375929467415905, 'AAB'),\n",
              " ('AB', 'BB'): Text(-0.07427155903025312, -0.02735131925144696, 'ABB'),\n",
              " ('BB', 'BB'): Text(-0.1779231086935844, 0.46970765411965076, 'BBB'),\n",
              " ('BB', 'BA'): Text(-0.12956321811067595, 0.6375993158646946, 'BBA')}"
            ]
          },
          "execution_count": 7,
          "metadata": {},
          "output_type": "execute_result"
        },
        {
          "data": {
            "image/png": "[encoded data removed]",
            "text/plain": [
              "<Figure size 640x480 with 1 Axes>"
            ]
          },
          "metadata": {},
          "output_type": "display_data"
        }
      ],
      "source": [
        "dna = \"AAABBBA\"\n",
        "\n",
        "def kmergen(dna, k):\n",
        "  return [dna[i:i+k] for i in range(len(dna)-k+1)]\n",
        "\n",
        "kmers = kmergen(dna, 3)\n",
        "\n",
        "graph = DeBruijin(kmers)\n",
        "\n",
        "import networkx as nx\n",
        "\n",
        "G = nx.DiGraph(graph)\n",
        "\n",
        "\n",
        "labels = dict()\n",
        "for i in graph:\n",
        "  for j in graph[i]:\n",
        "    labels[(i , j)] = i+j[-1]\n",
        "\n",
        "\n",
        "pos = nx.spring_layout(G)\n",
        "nx.draw_networkx(G, pos, node_size=500, node_color='red')\n",
        "\n",
        "nx.draw_networkx_edge_labels(\n",
        "    G,\n",
        "    pos,\n",
        "    edge_labels=labels,\n",
        "    font_color='black'\n",
        ")"
      ]
    },
    {
      "cell_type": "code",
      "execution_count": 20,
      "metadata": {
        "colab": {
          "base_uri": "https://localhost:8080/"
        },
        "id": "OTVqzqRXFhw0",
        "outputId": "df0195b3-56a8-4f5f-a8c0-9c9c3201ab22"
      },
      "outputs": [
        {
          "name": "stdout",
          "output_type": "stream",
          "text": [
            "[6, 8, 7, 9, 6, 5, 4, 2, 1, 0, 3, 2, 6]\n"
          ]
        }
      ],
      "source": [
        "def EulerianCycle(graph, spawn=None):\n",
        "  from random import choice\n",
        "  cycle = []\n",
        "  if spawn is None:\n",
        "    spawn = choice(list(graph.keys()))\n",
        "  cycle.append(spawn)\n",
        "  node = choice(graph[spawn])\n",
        "  if spawn in graph[spawn]:\n",
        "    node = spawn\n",
        "  while graph[node] != []:\n",
        "    graph[cycle[-1]].remove(node)\n",
        "    cycle.append(node)\n",
        "    if node in graph[node]:\n",
        "      continue\n",
        "    node = choice(graph[node])\n",
        "  graph[cycle[-1]].remove(node)\n",
        "  cycle.append(node)\n",
        "  for ind, i in enumerate(cycle):\n",
        "    if graph[i] != []:\n",
        "      cycle2 = EulerianCycle(graph, spawn=i)\n",
        "      cycle = cycle[:ind] + cycle2 + cycle[ind+1:]\n",
        "      return cycle\n",
        "  return cycle\n",
        "\n",
        "graph = {\n",
        "    0: [3],\n",
        "    1: [0],\n",
        "    2: [1, 6],\n",
        "    3: [2],\n",
        "    4: [2],\n",
        "    5: [4],\n",
        "    6: [5, 8],\n",
        "    7: [9],\n",
        "    8: [7],\n",
        "    9: [6]\n",
        "}\n",
        "cycle = EulerianCycle(graph, spawn=6)\n",
        "print(cycle)"
      ]
    },
    {
      "cell_type": "code",
      "execution_count": 28,
      "metadata": {
        "colab": {
          "base_uri": "https://localhost:8080/"
        },
        "id": "0UlZdWo_hZpE",
        "outputId": "adee3d33-b394-4dcb-9fb9-1d5f83d7ff64"
      },
      "outputs": [
        {
          "name": "stdout",
          "output_type": "stream",
          "text": [
            "['AA', 'AA', 'AB', 'BB', 'BB', 'BA']\n"
          ]
        }
      ],
      "source": [
        "def Eulerian(graph):\n",
        "  degree = {i:len(graph[i]) for i in graph}\n",
        "  for i in graph:\n",
        "    for j in graph[i]:\n",
        "      degree[j] -=1\n",
        "\n",
        "  l = list(degree.values())\n",
        "  if len(l) - l.count(0) > 2:\n",
        "    print(\"No Eulerian Path Exists\")\n",
        "    return\n",
        "  elif len(l) - l.count(0) == 0:\n",
        "    return EulerianCycle(graph)\n",
        "  else:\n",
        "    for i in degree:\n",
        "      if degree[i]>0:\n",
        "        spawn = i\n",
        "        break\n",
        "  return EulerianCycle(graph, spawn)\n",
        "\n",
        "dna = \"AAABBBA\"\n",
        "\n",
        "def kmergen(dna, k):\n",
        "  return [dna[i:i+k] for i in range(len(dna)-k+1)]\n",
        "\n",
        "kmers = kmergen(dna, 3)\n",
        "\n",
        "graph = DeBruijin(kmers)\n",
        "path = Eulerian(graph)\n",
        "print(path)"
      ]
    }
  ],
  "metadata": {
    "colab": {
      "provenance": []
    },
    "kernelspec": {
      "display_name": "Python 3",
      "name": "python3"
    },
    "language_info": {
      "name": "python"
    }
  },
  "nbformat": 4,
  "nbformat_minor": 0
}
